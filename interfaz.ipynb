{
 "cells": [
  {
   "cell_type": "code",
   "execution_count": 1,
   "metadata": {},
   "outputs": [],
   "source": [
    "from netCDF4 import Dataset\n",
    "\n",
    "dataset= Dataset('/home/jovyan/trim-test_1.nc', 'r', format='NETCDF4_CLASSIC')"
   ]
  },
  {
   "cell_type": "code",
   "execution_count": 2,
   "metadata": {},
   "outputs": [],
   "source": [
    "import ipywidgets as widgets\n",
    "from IPython.display import display,clear_output\n",
    "import matplotlib.pyplot as plt\n",
    "from ipywidgets import Layout, VBox, HBox\n",
    "import numpy as np \n",
    "import datetime"
   ]
  },
  {
   "cell_type": "code",
   "execution_count": 3,
   "metadata": {},
   "outputs": [],
   "source": [
    "lista=[[],[],[]]\n",
    "for n in dataset.variables.keys():\n",
    "    dimensiones=''\n",
    "    for i in dataset.variables[n].dimensions:\n",
    "        dimensiones= dimensiones+\" \"+i\n",
    "    lista[0]= np.append(lista[0],n)\n",
    "    lista[1]= np.append(lista[1],len(dataset.variables[n].dimensions))\n",
    "    lista[2]= np.append(lista[2],dimensiones)\n",
    "    "
   ]
  },
  {
   "cell_type": "code",
   "execution_count": 4,
   "metadata": {},
   "outputs": [],
   "source": [
    "dependencias=[]\n",
    "for n in lista[2]:\n",
    "    if n not in dependencias:\n",
    "        dependencias= np.append(dependencias,n)\n",
    "    "
   ]
  },
  {
   "cell_type": "code",
   "execution_count": 5,
   "metadata": {},
   "outputs": [],
   "source": [
    "variables_2d_coor=[]\n",
    "for i in range(len(lista[0])):\n",
    "    if lista[1][i]==3 and lista[0][i] not in 'MNKSRC':\n",
    "        variables_2d_coor= np.append(variables_2d_coor, lista[0][i])"
   ]
  },
  {
   "cell_type": "code",
   "execution_count": 6,
   "metadata": {},
   "outputs": [
    {
     "name": "stdout",
     "output_type": "stream",
     "text": [
      "['S1' 'KFU' 'KFV' 'TAUKSI' 'TAUETA' 'TAUMAX' 'UMNLDF' 'VMNLDF']\n"
     ]
    }
   ],
   "source": [
    "print(variables_2d_coor[:])"
   ]
  },
  {
   "cell_type": "code",
   "execution_count": 7,
   "metadata": {},
   "outputs": [],
   "source": [
    "def humanize_time(secs):\n",
    "    mins, secs = divmod(secs, 60)\n",
    "    hours, mins = divmod(mins, 60)\n",
    "    return '%02d:%02d:%02d' % (hours, mins, secs)"
   ]
  },
  {
   "cell_type": "code",
   "execution_count": 8,
   "metadata": {},
   "outputs": [
    {
     "name": "stdout",
     "output_type": "stream",
     "text": [
      "00:00:00\n",
      "06:00:00\n",
      "12:00:00\n",
      "18:00:00\n"
     ]
    }
   ],
   "source": [
    "date=[]\n",
    "for i in range(len(dataset.variables['time'])-1):\n",
    "    date=np.append(date, humanize_time(dataset.variables['time'][i]))\n",
    "    print(date[i])"
   ]
  },
  {
   "cell_type": "code",
   "execution_count": 9,
   "metadata": {},
   "outputs": [
    {
     "data": {
      "text/plain": [
       "<matplotlib.image.AxesImage at 0x7ff76a0b12e8>"
      ]
     },
     "execution_count": 9,
     "metadata": {},
     "output_type": "execute_result"
    },
    {
     "data": {
      "image/png": "[encoded data removed]",
      "text/plain": [
       "<Figure size 432x288 with 1 Axes>"
      ]
     },
     "metadata": {
      "needs_background": "light"
     },
     "output_type": "display_data"
    }
   ],
   "source": [
    "plt.imshow(dataset.variables['XCOR'][:,:],\\\n",
    "        cmap= plt.get_cmap('jet'), aspect='equal', origin='lower')"
   ]
  },
  {
   "cell_type": "code",
   "execution_count": 10,
   "metadata": {},
   "outputs": [],
   "source": [
    "valor_x= widgets.IntText(\n",
    "    value=0,\n",
    "    description='x'\n",
    ")\n",
    "valor_y= widgets.IntText(\n",
    "    value=0,\n",
    "    description='y'\n",
    ")\n",
    "\n",
    "boton_OK= widgets.Button(\n",
    "    description='OK'\n",
    ")"
   ]
  },
  {
   "cell_type": "code",
   "execution_count": 11,
   "metadata": {},
   "outputs": [],
   "source": [
    "drop_var=widgets.Dropdown(\n",
    "    options=[(variables_2d_coor[n], n) for n in range(len(variables_2d_coor))],\n",
    "    value=0,\n",
    "    description='Variables:',\n",
    ")"
   ]
  },
  {
   "cell_type": "code",
   "execution_count": 12,
   "metadata": {},
   "outputs": [],
   "source": [
    "box_layout = Layout(display='flex',\n",
    "                    flex_flow='row',\n",
    "                    align_items='center',\n",
    "                    width='100%')\n",
    "\n",
    "\n",
    "vb= VBox([valor_x, valor_y])\n",
    "hb=HBox([drop_var,vb, boton_OK], layout=box_layout)"
   ]
  },
  {
   "cell_type": "code",
   "execution_count": 13,
   "metadata": {},
   "outputs": [],
   "source": [
    "propiedades=[[],[],[]]"
   ]
  },
  {
   "cell_type": "code",
   "execution_count": 14,
   "metadata": {},
   "outputs": [],
   "source": [
    "def variable_on_change(v):\n",
    "    propiedades[0]=variables_2d_coor[v['new']]\n",
    "    actualiza_display()\n",
    "    \n",
    "drop_var.observe(variable_on_change, names='value')"
   ]
  },
  {
   "cell_type": "code",
   "execution_count": 15,
   "metadata": {},
   "outputs": [],
   "source": [
    "def actualiza_display():\n",
    "    clear_output(wait=False)\n",
    "    display(hb)  \n",
    "    plt.show()\n",
    "    "
   ]
  },
  {
   "cell_type": "code",
   "execution_count": 16,
   "metadata": {},
   "outputs": [],
   "source": [
    "def pinta_plot():\n",
    "    axs = plt.subplot()\n",
    "\n",
    "    eje_x=[date[i] for i in range(len(dataset.variables['time'])-1)]\n",
    "    eje_y=[dataset.variables[propiedades[0]][i,propiedades[1],propiedades[2]] for i in range(len(dataset.variables[propiedades[0]])-1)]\n",
    "    \n",
    "    axs.plot(eje_x,eje_y)\n",
    "    axs.set_title(propiedades[0])\n",
    "    axs.set_xlabel('time')\n",
    "    axs.set_ylabel('m')"
   ]
  },
  {
   "cell_type": "code",
   "execution_count": 17,
   "metadata": {},
   "outputs": [],
   "source": [
    "def pinta_mapa():\n",
    "    mapa= plt.subplot()\n",
    "    mapa.imshow(dataset.variables['XCOR'][:,:],\\\n",
    "        cmap= plt.get_cmap('jet'), aspect='equal', origin='lower')\n",
    "    "
   ]
  },
  {
   "cell_type": "code",
   "execution_count": 18,
   "metadata": {},
   "outputs": [],
   "source": [
    "def on_button_clicked(b):\n",
    "    propiedades[1]=valor_x.value\n",
    "    propiedades[2]=valor_y.value\n",
    "\n",
    "    pinta_plot()\n",
    "    actualiza_display()\n",
    "\n",
    "\n",
    "boton_OK.on_click(on_button_clicked)"
   ]
  },
  {
   "cell_type": "code",
   "execution_count": 19,
   "metadata": {},
   "outputs": [
    {
     "data": {
      "application/vnd.jupyter.widget-view+json": {
       "model_id": "71ffa09a04e74ebc98aa26cf5a889e36",
       "version_major": 2,
       "version_minor": 0
      },
      "text/plain": [
       "HBox(children=(Dropdown(description='Variables:', index=7, options=(('S1', 0), ('KFU', 1), ('KFV', 2), ('TAUKS…"
      ]
     },
     "metadata": {},
     "output_type": "display_data"
    },
    {
     "data": {
      "image/png": "[encoded data removed]",
      "text/plain": [
       "<Figure size 432x288 with 1 Axes>"
      ]
     },
     "metadata": {
      "needs_background": "light"
     },
     "output_type": "display_data"
    }
   ],
   "source": [
    "propiedades[0]=variables_2d_coor[0]\n",
    "propiedades[1]=valor_x.value\n",
    "propiedades[2]=valor_y.value\n",
    "display(hb)"
   ]
  },
  {
   "cell_type": "code",
   "execution_count": null,
   "metadata": {},
   "outputs": [],
   "source": []
  }
 ],
 "metadata": {
  "kernelspec": {
   "display_name": "Python 3",
   "language": "python",
   "name": "python3"
  },
  "language_info": {
   "codemirror_mode": {
    "name": "ipython",
    "version": 3
   },
   "file_extension": ".py",
   "mimetype": "text/x-python",
   "name": "python",
   "nbconvert_exporter": "python",
   "pygments_lexer": "ipython3",
   "version": "3.6.6"
  }
 },
 "nbformat": 4,
 "nbformat_minor": 2
}
