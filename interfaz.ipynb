{
 "cells": [
  {
   "cell_type": "code",
   "execution_count": 1,
   "metadata": {},
   "outputs": [],
   "source": [
    "from netCDF4 import Dataset\n",
    "\n",
    "dataset= Dataset('/home/jovyan/trim-test_1.nc', 'r', format='NETCDF4_CLASSIC')"
   ]
  },
  {
   "cell_type": "code",
   "execution_count": 2,
   "metadata": {},
   "outputs": [],
   "source": [
    "import ipywidgets as widgets\n",
    "from IPython.display import display,clear_output\n",
    "import matplotlib.pyplot as plt\n",
    "from ipywidgets import Layout, VBox, HBox\n",
    "import numpy as np \n",
    "import datetime"
   ]
  },
  {
   "cell_type": "code",
   "execution_count": 3,
   "metadata": {},
   "outputs": [],
   "source": [
    "lista=[[],[],[]]\n",
    "for n in dataset.variables.keys():\n",
    "    dimensiones=''\n",
    "    for i in dataset.variables[n].dimensions:\n",
    "        dimensiones= dimensiones+\" \"+i\n",
    "    lista[0]= np.append(lista[0],n)\n",
    "    lista[1]= np.append(lista[1],len(dataset.variables[n].dimensions))\n",
    "    lista[2]= np.append(lista[2],dimensiones)\n",
    "    "
   ]
  },
  {
   "cell_type": "code",
   "execution_count": 4,
   "metadata": {},
   "outputs": [],
   "source": [
    "dependencias=[]\n",
    "for n in lista[2]:\n",
    "    if n not in dependencias:\n",
    "        dependencias= np.append(dependencias,n)\n",
    "    "
   ]
  },
  {
   "cell_type": "code",
   "execution_count": 5,
   "metadata": {},
   "outputs": [],
   "source": [
    "variables_representadas=[]"
   ]
  },
  {
   "cell_type": "code",
   "execution_count": 6,
   "metadata": {},
   "outputs": [
    {
     "name": "stdout",
     "output_type": "stream",
     "text": [
      "S1 3.0  time M N\n",
      "KFU 3.0  time MC N\n",
      "KFV 3.0  time M NC\n",
      "TAUKSI 3.0  time MC N\n",
      "TAUETA 3.0  time M NC\n",
      "TAUMAX 3.0  time M N\n",
      "UMNLDF 3.0  time MC N\n",
      "VMNLDF 3.0  time M NC\n"
     ]
    }
   ],
   "source": [
    "variables_3d_coor=[]\n",
    "for i in range(len(lista[0])):\n",
    "    if lista[1][i]==3 and lista[0][i] not in 'MNKSRC':\n",
    "        print(lista[0][i], lista[1][i], lista[2][i])\n",
    "        variables_3d_coor= np.append(variables_3d_coor, lista[0][i])\n",
    "        variables_representadas= np.append(variables_representadas, lista[0][i])"
   ]
  },
  {
   "cell_type": "code",
   "execution_count": 7,
   "metadata": {},
   "outputs": [],
   "source": [
    "variables_4d=[]\n",
    "for i in range(len(lista[0])):\n",
    "    if lista[1][i]==4:\n",
    "        variables_4d= np.append(variables_4d, lista[0][i])\n",
    "        variables_representadas= np.append(variables_representadas, lista[0][i])"
   ]
  },
  {
   "cell_type": "code",
   "execution_count": 8,
   "metadata": {},
   "outputs": [
    {
     "name": "stdout",
     "output_type": "stream",
     "text": [
      "['U1' 'V1' 'W' 'WPHY' 'VICWW' 'DICWW' 'RICH' 'RHO' 'VICUV' 'HYDPRES']\n"
     ]
    }
   ],
   "source": [
    "print(variables_4d)"
   ]
  },
  {
   "cell_type": "code",
   "execution_count": 9,
   "metadata": {},
   "outputs": [
    {
     "name": "stdout",
     "output_type": "stream",
     "text": [
      "U1 4.0  time KMAXOUT_RESTR MC N\n",
      "V1 4.0  time KMAXOUT_RESTR M NC\n",
      "W 4.0  time KMAXOUT M N\n",
      "WPHY 4.0  time KMAXOUT_RESTR M N\n",
      "VICWW 4.0  time KMAXOUT M N\n",
      "DICWW 4.0  time KMAXOUT M N\n",
      "RICH 4.0  time KMAXOUT M N\n",
      "RHO 4.0  time KMAXOUT_RESTR M N\n",
      "VICUV 4.0  time KMAXOUT_RESTR M N\n",
      "HYDPRES 4.0  time KMAXOUT_RESTR M N\n"
     ]
    }
   ],
   "source": [
    "for i in range(len(lista[0])):\n",
    "    if lista[1][i]==4:\n",
    "        print(lista[0][i], lista[1][i], lista[2][i])"
   ]
  },
  {
   "cell_type": "code",
   "execution_count": 10,
   "metadata": {},
   "outputs": [
    {
     "data": {
      "text/plain": [
       "masked_array(data=-999.,\n",
       "             mask=False,\n",
       "       fill_value=1e+20,\n",
       "            dtype=float32)"
      ]
     },
     "execution_count": 10,
     "metadata": {},
     "output_type": "execute_result"
    }
   ],
   "source": [
    "dataset.variables['U1'][0,0,0,0]"
   ]
  },
  {
   "cell_type": "code",
   "execution_count": 11,
   "metadata": {},
   "outputs": [],
   "source": [
    "def humanize_time(secs):\n",
    "    mins, secs = divmod(secs, 60)\n",
    "    hours, mins = divmod(mins, 60)\n",
    "    return '%02d:%02d:%02d' % (hours, mins, secs)"
   ]
  },
  {
   "cell_type": "code",
   "execution_count": 12,
   "metadata": {},
   "outputs": [
    {
     "name": "stdout",
     "output_type": "stream",
     "text": [
      "00:00:00\n",
      "06:00:00\n",
      "12:00:00\n",
      "18:00:00\n"
     ]
    }
   ],
   "source": [
    "date=[]\n",
    "for i in range(len(dataset.variables['time'])-1):\n",
    "    date=np.append(date, humanize_time(dataset.variables['time'][i]))\n",
    "    print(date[i])"
   ]
  },
  {
   "cell_type": "code",
   "execution_count": 13,
   "metadata": {},
   "outputs": [
    {
     "data": {
      "text/plain": [
       "<matplotlib.image.AxesImage at 0x7f00a8b8deb8>"
      ]
     },
     "execution_count": 13,
     "metadata": {},
     "output_type": "execute_result"
    },
    {
     "data": {
      "image/png": "[encoded data removed]",
      "text/plain": [
       "<Figure size 432x288 with 1 Axes>"
      ]
     },
     "metadata": {
      "needs_background": "light"
     },
     "output_type": "display_data"
    }
   ],
   "source": [
    "plt.imshow(dataset.variables['XCOR'][:,:],\\\n",
    "        cmap= plt.get_cmap('jet'), aspect='equal', origin='lower')"
   ]
  },
  {
   "cell_type": "code",
   "execution_count": 14,
   "metadata": {},
   "outputs": [],
   "source": [
    "valor_x= widgets.BoundedFloatText(\n",
    "    value=0,\n",
    "    min=0,\n",
    "    max=dataset.variables['XCOR'].shape[0]-1,\n",
    "    step=1,\n",
    "    description='x:'\n",
    ")\n",
    "valor_y= widgets.BoundedFloatText(\n",
    "    value=0,\n",
    "    min=0,\n",
    "    max=dataset.variables['XCOR'].shape[1]-1,\n",
    "    step=1,\n",
    "    description='y:'\n",
    ")\n",
    "\n",
    "boton_OK= widgets.Button(\n",
    "    description='OK'\n",
    ")"
   ]
  },
  {
   "cell_type": "code",
   "execution_count": 15,
   "metadata": {},
   "outputs": [],
   "source": [
    "drop_var=widgets.Dropdown(\n",
    "    options=[(variables_representadas[n], n) for n in range(len(variables_representadas))],\n",
    "    value=0,\n",
    "    description='Variables:',\n",
    ")"
   ]
  },
  {
   "cell_type": "code",
   "execution_count": 16,
   "metadata": {},
   "outputs": [],
   "source": [
    "box_layout = Layout(display='flex',\n",
    "                    flex_flow='row',\n",
    "                    align_items='center',\n",
    "                    width='100%')\n",
    "\n",
    "\n",
    "vb_3d= VBox([valor_x, valor_y])\n",
    "hb_3d=HBox([drop_var,vb_3d, boton_OK], layout=box_layout)"
   ]
  },
  {
   "cell_type": "code",
   "execution_count": 17,
   "metadata": {},
   "outputs": [],
   "source": [
    "slider = widgets.IntSlider(\n",
    "    value=0,\n",
    "    min=0,\n",
    "    max=len(dataset.variables['KMAXOUT']),\n",
    "    readout=True,\n",
    "    description='Z',\n",
    "    continuous_update=False\n",
    "\n",
    ")\n",
    "\n",
    "drop_date=widgets.Dropdown(\n",
    "    options=[(str(date[i]), i) for i in range(len(date))],\n",
    "    value=0,\n",
    "    description='Fecha:',\n",
    ")\n",
    "\n",
    "\n",
    "hb_4d=HBox([drop_var, drop_date, slider], layout=box_layout)"
   ]
  },
  {
   "cell_type": "code",
   "execution_count": 18,
   "metadata": {},
   "outputs": [
    {
     "data": {
      "application/vnd.jupyter.widget-view+json": {
       "model_id": "f336ee5f5afb4ed6ab8d084cbd07da64",
       "version_major": 2,
       "version_minor": 0
      },
      "text/plain": [
       "HBox(children=(Dropdown(description='Variables:', options=(('S1', 0), ('KFU', 1), ('KFV', 2), ('TAUKSI', 3), (…"
      ]
     },
     "metadata": {},
     "output_type": "display_data"
    }
   ],
   "source": [
    "hb_4d"
   ]
  },
  {
   "cell_type": "code",
   "execution_count": 19,
   "metadata": {},
   "outputs": [],
   "source": [
    "propiedades=[[],[],[],[],[]]\n",
    "#propiedades[var,x,y,time,z]"
   ]
  },
  {
   "cell_type": "code",
   "execution_count": 20,
   "metadata": {},
   "outputs": [],
   "source": [
    "def variable_on_change(v):\n",
    "    propiedades[0]=variables_representadas[v['new']]\n",
    "    if(propiedades[0] in variables_3d_coor):\n",
    "        actualiza_display_3d()\n",
    "        \n",
    "    if(propiedades[0] in variables_4d):\n",
    "        actualiza_display_4d()\n",
    "        \n",
    "    \n",
    "drop_var.observe(variable_on_change, names='value')"
   ]
  },
  {
   "cell_type": "code",
   "execution_count": 21,
   "metadata": {},
   "outputs": [],
   "source": [
    "def pinta_3d():\n",
    "    pinta_plot()\n",
    "    actualiza_display_3d()\n",
    "    "
   ]
  },
  {
   "cell_type": "code",
   "execution_count": 22,
   "metadata": {},
   "outputs": [],
   "source": [
    "def pinta_4d():\n",
    "    actualiza_display_4d()"
   ]
  },
  {
   "cell_type": "code",
   "execution_count": 23,
   "metadata": {},
   "outputs": [],
   "source": [
    "def actualiza_display_3d():\n",
    "    clear_output(wait=False)\n",
    "    display(hb_3d)  \n",
    "    pinta_plot()\n",
    "    plt.show()"
   ]
  },
  {
   "cell_type": "code",
   "execution_count": 24,
   "metadata": {},
   "outputs": [],
   "source": [
    "def actualiza_display_4d():\n",
    "    clear_output(wait=False)\n",
    "    display(hb_4d)  \n",
    "    pinta_mapa()"
   ]
  },
  {
   "cell_type": "code",
   "execution_count": 25,
   "metadata": {},
   "outputs": [],
   "source": [
    "\n",
    "def pinta_plot():\n",
    "\n",
    "    plt.clf()\n",
    "    axs = plt.subplot()\n",
    "    eje_x=[date[i] for i in range(len(dataset.variables['time'])-1)]\n",
    "    eje_y=[dataset.variables[propiedades[0]][i,propiedades[1],propiedades[2]] for i in range(len(dataset.variables[propiedades[0]])-1)]\n",
    "    \n",
    "    axs.plot(eje_x,eje_y)\n",
    "    axs.set_title(propiedades[0])\n",
    "    #axs.set_xlabel('time')\n",
    "    #axs.set_ylabel('m')"
   ]
  },
  {
   "cell_type": "code",
   "execution_count": 26,
   "metadata": {},
   "outputs": [],
   "source": [
    "def pinta_mapa():\n",
    "    \n",
    "    fig,(ax1)= plt.subplots(figsize=(13,3), ncols=1)\n",
    "    im=plt.imshow(np.transpose(dataset.variables[propiedades[0]][propiedades[3],propiedades[4],:,:]),\\\n",
    "        cmap= plt.get_cmap('jet'), aspect='equal', origin='lower')\n",
    "    plt.colorbar(im,ax=ax1)\n",
    "    plt.title(propiedades[0]+\" of lake\")\n",
    "    plt.ylabel(\"Latitude\")\n",
    "    plt.xlabel(\"Longitude\")\n",
    "    plt.show()\n",
    "    \n",
    "    "
   ]
  },
  {
   "cell_type": "code",
   "execution_count": 27,
   "metadata": {},
   "outputs": [],
   "source": [
    "def on_button_clicked(b):\n",
    "       \n",
    "    propiedades[1]=valor_x.value\n",
    "    propiedades[2]=valor_y.value\n",
    "\n",
    "    pinta_plot()\n",
    "    actualiza_display_3d()\n",
    "\n",
    "\n",
    "boton_OK.on_click(on_button_clicked)"
   ]
  },
  {
   "cell_type": "code",
   "execution_count": 28,
   "metadata": {},
   "outputs": [],
   "source": [
    "def slider_on_change(v):\n",
    "    propiedades[4]=v['new']\n",
    "    actualiza_display_4d()\n",
    "    \n",
    "slider.observe(slider_on_change, names='value')"
   ]
  },
  {
   "cell_type": "code",
   "execution_count": 29,
   "metadata": {},
   "outputs": [],
   "source": [
    "def date_on_change(v):\n",
    "    propiedades[3]=v['new']\n",
    "    actualiza_display_4d()\n",
    "    \n",
    "drop_date.observe(date_on_change, names='value')"
   ]
  },
  {
   "cell_type": "code",
   "execution_count": 30,
   "metadata": {},
   "outputs": [
    {
     "data": {
      "application/vnd.jupyter.widget-view+json": {
       "model_id": "f336ee5f5afb4ed6ab8d084cbd07da64",
       "version_major": 2,
       "version_minor": 0
      },
      "text/plain": [
       "HBox(children=(Dropdown(description='Variables:', index=10, options=(('S1', 0), ('KFU', 1), ('KFV', 2), ('TAUK…"
      ]
     },
     "metadata": {},
     "output_type": "display_data"
    },
    {
     "data": {
      "image/png": "[encoded data removed]",
      "text/plain": [
       "<Figure size 936x216 with 2 Axes>"
      ]
     },
     "metadata": {
      "needs_background": "light"
     },
     "output_type": "display_data"
    }
   ],
   "source": [
    "propiedades[0]=variables_3d_coor[0]\n",
    "propiedades[1]=valor_x.value\n",
    "propiedades[2]=valor_y.value\n",
    "propiedades[3]=dataset.variables['time'][0]\n",
    "propiedades[4]=slider.value\n",
    "actualiza_display_3d()"
   ]
  },
  {
   "cell_type": "code",
   "execution_count": 32,
   "metadata": {},
   "outputs": [
    {
     "data": {
      "image/png": "[encoded data removed]",
      "text/plain": [
       "<Figure size 432x288 with 48 Axes>"
      ]
     },
     "metadata": {
      "needs_background": "light"
     },
     "output_type": "display_data"
    }
   ],
   "source": [
    "size_x, size_y= dataset.variables[\"XCOR\"].shape[0], dataset.variables[\"XCOR\"].shape[1]\n",
    "cuadriculas_x, cuadriculas_y= int(size_x/15), int(size_y/15)\n",
    "f, axarr = plt.subplots(cuadriculas_x, cuadriculas_y)\n",
    "x1,y1=0,0\n",
    "x2,y2=0,0\n",
    "for i in range(cuadriculas_x):\n",
    "    x2=(i+1)*15\n",
    "    for j in range(cuadriculas_y):\n",
    "        y2=(j+1)*15\n",
    "        axarr[i,j].imshow(dataset.variables[\"XCOR\"][x1:x2,y1:y2])\n",
    "        axarr[i,j].axis('off')\n",
    "        y1=(j+1)*15\n",
    "    x1=(i+1)*15\n",
    "    y1=0\n",
    "plt.show()"
   ]
  },
  {
   "cell_type": "code",
   "execution_count": null,
   "metadata": {},
   "outputs": [],
   "source": [
    "plt.imshow(dataset.variables[\"XCOR\"][:,:])"
   ]
  }
 ],
 "metadata": {
  "kernelspec": {
   "display_name": "Python 3",
   "language": "python",
   "name": "python3"
  },
  "language_info": {
   "codemirror_mode": {
    "name": "ipython",
    "version": 3
   },
   "file_extension": ".py",
   "mimetype": "text/x-python",
   "name": "python",
   "nbconvert_exporter": "python",
   "pygments_lexer": "ipython3",
   "version": "3.6.6"
  }
 },
 "nbformat": 4,
 "nbformat_minor": 2
}
