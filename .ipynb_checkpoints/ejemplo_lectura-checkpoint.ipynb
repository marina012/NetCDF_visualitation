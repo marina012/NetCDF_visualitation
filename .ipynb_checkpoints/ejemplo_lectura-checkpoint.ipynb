{
 "cells": [
  {
   "cell_type": "code",
   "execution_count": 2,
   "metadata": {},
   "outputs": [],
   "source": [
    "from netCDF4 import Dataset\n",
    "import datetime\n",
    "from datetime import datetime\n",
    "from dateutil import parser\n",
    "import numpy as np\n",
    "import matplotlib.pyplot as plt\n",
    "\n",
    "def temp_map(file, ini_date, end_date, z, variable):\n",
    "\n",
    "    dataset_map =  Dataset(file)\n",
    "    sd = datetime.strptime(ini_date, '%Y-%m-%d %H:%M:%S')\n",
    "    ed = datetime.strptime(end_date, '%Y-%m-%d %H:%M:%S')\n",
    "    delta_time = (ed-sd).total_seconds()\n",
    "    #TODO Get maximum of layers\n",
    "    layer = int(((-z+35)/38)*35)\n",
    "\n",
    "    if (delta_time/21600).is_integer:\n",
    "        time = (delta_time/21600)\n",
    "        #TODO Select variables\n",
    "        temp_map = dataset_map.variables[variable][time][1][layer][:][:]\n",
    "        #TODO slider for dates\n",
    "        temp_map = np.ma.masked_where(temp_map <= 0, temp_map)\n",
    "        plt.figure(1,figsize = (20,15))\n",
    "        plt.imshow(np.flip(temp_map.transpose(),0),aspect='auto')\n",
    "        #TODO select better color palette\n",
    "        plt.colorbar()\n",
    "        plt.xlabel('lon')\n",
    "        plt.ylabel('lat')\n",
    "        #TODO Define title\n",
    "        plt.title(\"Map Temp {}, prof = {} meters\".format(end_date, z))\n",
    "        #TODO Zoom\n",
    "        plt.show()"
   ]
  },
  {
   "cell_type": "code",
   "execution_count": 83,
   "metadata": {},
   "outputs": [
    {
     "name": "stdout",
     "output_type": "stream",
     "text": [
      "[0.08865757 0.08903258 0.08914129 ... 0.012637   0.012637   0.012637  ]\n",
      "[767259.06 767306.94 767354.75 ... 716666.6  716769.4  716700.9 ]\n",
      "[4156692.8 4156694.8 4156696.5 ... 4079312.5 4076918.  4078514.2]\n"
     ]
    },
    {
     "data": {
      "image/png": "[encoded data removed]",
      "text/plain": [
       "<Figure size 432x288 with 1 Axes>"
      ]
     },
     "metadata": {
      "needs_background": "light"
     },
     "output_type": "display_data"
    }
   ],
   "source": [
    "dataset_map =  Dataset('/home/jovyan/guadalquivir_prueba.hydro.nc')\n",
    "print(dataset_map.variables['water_level'][1])\n",
    "print(dataset_map.variables['longitude'][:])\n",
    "print(dataset_map.variables['latitude'][:])\n",
    "#np.asarray(test).ndim\n",
    "plt.plot(dataset_map.variables['water_level'][1])\n",
    "plt.show()"
   ]
  },
  {
   "cell_type": "code",
   "execution_count": 91,
   "metadata": {},
   "outputs": [
    {
     "name": "stdout",
     "output_type": "stream",
     "text": [
      "odict_keys(['XCOR', 'YCOR', 'XZ', 'YZ', 'ALFAS', 'KCU', 'KCV', 'KCS', 'DP0', 'DPS0', 'DPU0', 'DPV0', 'NAMCON', 'NAMTUR', 'ZK_LYR', 'ZK', 'GSQS', 'PPARTITION', 'KMAXOUT', 'KMAXOUT_RESTR', 'RHOCONST', 'GRAVITY', 'grid', 'time', 'S1', 'KFU', 'KFV', 'U1', 'V1', 'W', 'WPHY', 'R1', 'RTUR1', 'TAUKSI', 'TAUETA', 'TAUMAX', 'VICWW', 'DICWW', 'RICH', 'RHO', 'UMNLDF', 'VMNLDF', 'VICUV', 'MNKSRC', 'HYDPRES'])\n",
      "('time', 'LSTSCI', 'KMAXOUT_RESTR', 'M', 'N')\n",
      "(5, 2, 35, 122, 95)\n",
      "<class 'netCDF4._netCDF4.Variable'>\n",
      "float32 R1(time, LSTSCI, KMAXOUT_RESTR, M, N)\n",
      "    long_name: Concentrations per layer in zeta point\n",
      "    units: 1\n",
      "    coordinates: XZ YZ\n",
      "    grid: grid\n",
      "    location: face\n",
      "unlimited dimensions: time\n",
      "current shape = (5, 2, 35, 122, 95)\n",
      "filling on, default _FillValue of 9.969209968386869e+36 used\n",
      "\n",
      "<class 'netCDF4._netCDF4.Variable'>\n",
      "float64 time(time)\n",
      "    standard_name: time\n",
      "    long_name: time\n",
      "    units: seconds since 2018-08-30 00:00:00\n",
      "    calendar: proleptic_gregorian\n",
      "unlimited dimensions: time\n",
      "current shape = (5,)\n",
      "filling on, default _FillValue of 9.969209968386869e+36 used\n",
      "\n",
      "<class 'netCDF4._netCDF4.Variable'>\n",
      "int32 KMAXOUT_RESTR(KMAXOUT_RESTR)\n",
      "    long_name: User selected output layer centres\n",
      "    units: 1\n",
      "    compress: ZK_LYR\n",
      "unlimited dimensions: \n",
      "current shape = (35,)\n",
      "filling on, default _FillValue of -2147483647 used\n",
      "\n",
      "<class 'netCDF4._netCDF4.Variable'>\n",
      "float64 XZ(M, N)\n",
      "    standard_name: projection_x_coordinate\n",
      "    long_name: X-coordinate of cell centres\n",
      "    units: m\n",
      "unlimited dimensions: \n",
      "current shape = (122, 95)\n",
      "filling on, default _FillValue of 9.969209968386869e+36 used\n",
      "\n",
      "<class 'netCDF4._netCDF4.Variable'>\n",
      "float64 YZ(M, N)\n",
      "    standard_name: projection_y_coordinate\n",
      "    long_name: Y-coordinate of cell centres\n",
      "    units: m\n",
      "unlimited dimensions: \n",
      "current shape = (122, 95)\n",
      "filling on, default _FillValue of 9.969209968386869e+36 used\n",
      "\n",
      "[[-999. -999. -999. ... -999. -999. -999.]\n",
      " [-999. -999. -999. ... -999. -999. -999.]\n",
      " [-999. -999. -999. ... -999. -999. -999.]\n",
      " ...\n",
      " [-999. -999. -999. ... -999. -999. -999.]\n",
      " [-999. -999. -999. ... -999. -999. -999.]\n",
      " [-999. -999. -999. ... -999. -999. -999.]]\n",
      "2\n"
     ]
    },
    {
     "data": {
      "text/plain": [
       "<matplotlib.image.AxesImage at 0x7fa956755b70>"
      ]
     },
     "execution_count": 91,
     "metadata": {},
     "output_type": "execute_result"
    },
    {
     "data": {
      "image/png": "[encoded data removed]",
      "text/plain": [
       "<Figure size 432x288 with 1 Axes>"
      ]
     },
     "metadata": {
      "needs_background": "light"
     },
     "output_type": "display_data"
    }
   ],
   "source": [
    "dataset_map =  Dataset('/home/jovyan/trim-test_1.nc')\n",
    "print(dataset_map.variables.keys())\n",
    "do = dataset_map.variables['R1']\n",
    "print(do.dimensions)\n",
    "print(do.shape)\n",
    "print(do)\n",
    "dlwq_time = dataset_map.variables['time']\n",
    "layer = dataset_map.variables['KMAXOUT_RESTR']\n",
    "mesh2d_face_x = dataset_map.variables['XZ']\n",
    "mesh2d_face_y = dataset_map.variables['YZ']\n",
    "\n",
    "print(dlwq_time)\n",
    "print(layer)\n",
    "print(mesh2d_face_x)\n",
    "print(mesh2d_face_y)\n",
    "\n",
    "temp_map = dataset_map.variables['R1'][2][1][29][:][:]\n",
    "print(temp_map)\n",
    "print(np.asarray(temp_map).ndim)\n",
    "plt.figure(1)\n",
    "plt.imshow(temp_map)"
   ]
  },
  {
   "cell_type": "code",
   "execution_count": 212,
   "metadata": {},
   "outputs": [
    {
     "name": "stdout",
     "output_type": "stream",
     "text": [
      "odict_keys(['mesh2d', 'mesh2d_node_x', 'mesh2d_node_y', 'mesh2d_edge_x', 'mesh2d_edge_x_bnd', 'mesh2d_edge_y', 'mesh2d_edge_y_bnd', 'mesh2d_face_x', 'mesh2d_face_x_bnd', 'mesh2d_face_y', 'mesh2d_face_y_bnd', 'mesh2d_edge_nodes', 'mesh2d_edge_faces', 'mesh2d_face_nodes', 'nmesh2d_layer_dlwq', 'nmesh2d_dlwq_time', 'mesh2d_dlwq_time_bnd', 'mesh2d_Continuity', 'mesh2d_2d_Continuity', 'mesh2d_OXY', 'mesh2d_2d_OXY', 'mesh2d_NH4', 'mesh2d_2d_NH4', 'mesh2d_NO3', 'mesh2d_2d_NO3', 'mesh2d_PO4', 'mesh2d_2d_PO4', 'mesh2d_Si', 'mesh2d_2d_Si', 'mesh2d_Opal', 'mesh2d_2d_Opal', 'mesh2d_POC1', 'mesh2d_2d_POC1', 'mesh2d_POC2', 'mesh2d_2d_POC2', 'mesh2d_PON1', 'mesh2d_2d_PON1', 'mesh2d_PON2', 'mesh2d_2d_PON2', 'mesh2d_POP1', 'mesh2d_2d_POP1', 'mesh2d_POP2', 'mesh2d_2d_POP2', 'mesh2d_DOC', 'mesh2d_2d_DOC', 'mesh2d_DON', 'mesh2d_2d_DON', 'mesh2d_DOP', 'mesh2d_2d_DOP', 'mesh2d_BLUEGRN_E', 'mesh2d_2d_BLUEGRN_E', 'mesh2d_BLUEGRN_N', 'mesh2d_2d_BLUEGRN_N', 'mesh2d_BLUEGRN_P', 'mesh2d_2d_BLUEGRN_P', 'mesh2d_FDIATOMS_E', 'mesh2d_2d_FDIATOMS_E', 'mesh2d_FDIATOMS_P', 'mesh2d_2d_FDIATOMS_P', 'mesh2d_GREENS_E', 'mesh2d_2d_GREENS_E', 'mesh2d_GREENS_N', 'mesh2d_2d_GREENS_N', 'mesh2d_GREENS_P', 'mesh2d_2d_GREENS_P', 'mesh2d_Depth', 'mesh2d_2d_Depth', 'mesh2d_SwEmersion', 'mesh2d_2d_SwEmersion', 'mesh2d_Cl', 'mesh2d_2d_Cl', 'mesh2d_ExtVlPhyt', 'mesh2d_2d_ExtVlPhyt', 'mesh2d_Temp', 'mesh2d_2d_Temp', 'mesh2d_Rad', 'mesh2d_2d_Rad', 'mesh2d_DayL', 'mesh2d_2d_DayL', 'mesh2d_FracUptNH4', 'mesh2d_2d_FracUptNH4', 'mesh2d_Limit_Chlo', 'mesh2d_2d_Limit_Chlo', 'mesh2d_Limit_nit', 'mesh2d_2d_Limit_nit', 'mesh2d_Limit_pho', 'mesh2d_2d_Limit_pho', 'mesh2d_Limit_sil', 'mesh2d_2d_Limit_sil', 'mesh2d_Limit_e', 'mesh2d_2d_Limit_e', 'mesh2d_Limit_gro', 'mesh2d_2d_Limit_gro', 'mesh2d_Salinity', 'mesh2d_2d_Salinity', 'mesh2d_SaturOXY', 'mesh2d_2d_SaturOXY', 'mesh2d_Phyt', 'mesh2d_2d_Phyt', 'mesh2d_AlgN', 'mesh2d_2d_AlgN', 'mesh2d_AlgP', 'mesh2d_2d_AlgP', 'mesh2d_AlgSi', 'mesh2d_2d_AlgSi', 'mesh2d_AlgDM', 'mesh2d_2d_AlgDM', 'mesh2d_TOC', 'mesh2d_2d_TOC', 'mesh2d_TotN', 'mesh2d_2d_TotN', 'mesh2d_KjelN', 'mesh2d_2d_KjelN', 'mesh2d_DIN', 'mesh2d_2d_DIN', 'mesh2d_TON', 'mesh2d_2d_TON', 'mesh2d_PON', 'mesh2d_2d_PON', 'mesh2d_TotP', 'mesh2d_2d_TotP', 'mesh2d_TOP', 'mesh2d_2d_TOP', 'mesh2d_POP', 'mesh2d_2d_POP', 'mesh2d_TotSi', 'mesh2d_2d_TotSi', 'mesh2d_SecchiDept', 'mesh2d_2d_SecchiDept', 'mesh2d_Chlfa', 'mesh2d_2d_Chlfa', 'mesh2d_BLOOMGRP', 'mesh2d_2d_BLOOMGRP', 'mesh2d_ExtVlBak', 'mesh2d_2d_ExtVlBak', 'mesh2d_ExtVlISS', 'mesh2d_2d_ExtVlISS', 'mesh2d_ExtVlOSS', 'mesh2d_2d_ExtVlOSS', 'mesh2d_RadSurf', 'mesh2d_2d_RadSurf', 'mesh2d_BLUEGRN', 'mesh2d_2d_BLUEGRN', 'mesh2d_FDIATOMS', 'mesh2d_2d_FDIATOMS', 'mesh2d_GREENS', 'mesh2d_2d_GREENS', 'mesh2d_SURF', 'mesh2d_2d_SURF', 'mesh2d_LocalDepth', 'mesh2d_2d_LocalDepth', 'mesh2d_volume', 'mesh2d_2d_volume'])\n",
      "('nmesh2d_dlwq_time', 'nmesh2d_layer_dlwq', 'nmesh2d_face')\n",
      "(9, 35, 2634)\n"
     ]
    },
    {
     "ename": "AttributeError",
     "evalue": "NetCDF: Attribute not found",
     "output_type": "error",
     "traceback": [
      "\u001b[0;31m---------------------------------------------------------------------------\u001b[0m",
      "\u001b[0;31mAttributeError\u001b[0m                            Traceback (most recent call last)",
      "\u001b[0;32m<ipython-input-212-4c20d9a855fa>\u001b[0m in \u001b[0;36m<module>\u001b[0;34m\u001b[0m\n\u001b[1;32m      7\u001b[0m \u001b[0mdlwq_time\u001b[0m \u001b[0;34m=\u001b[0m \u001b[0mdataset_map\u001b[0m\u001b[0;34m.\u001b[0m\u001b[0mvariables\u001b[0m\u001b[0;34m[\u001b[0m\u001b[0;34m'nmesh2d_dlwq_time'\u001b[0m\u001b[0;34m]\u001b[0m\u001b[0;34m\u001b[0m\u001b[0;34m\u001b[0m\u001b[0m\n\u001b[1;32m      8\u001b[0m \u001b[0mlayer\u001b[0m \u001b[0;34m=\u001b[0m \u001b[0mdataset_map\u001b[0m\u001b[0;34m.\u001b[0m\u001b[0mvariables\u001b[0m\u001b[0;34m[\u001b[0m\u001b[0;34m'nmesh2d_layer_dlwq'\u001b[0m\u001b[0;34m]\u001b[0m\u001b[0;34m\u001b[0m\u001b[0;34m\u001b[0m\u001b[0m\n\u001b[0;32m----> 9\u001b[0;31m \u001b[0mmesh2d_face_x\u001b[0m \u001b[0;34m=\u001b[0m \u001b[0mdataset_map\u001b[0m\u001b[0;34m.\u001b[0m\u001b[0mvariables\u001b[0m\u001b[0;34m[\u001b[0m\u001b[0;34m'mesh2d_face_x'\u001b[0m\u001b[0;34m]\u001b[0m\u001b[0;34m.\u001b[0m\u001b[0mastype\u001b[0m\u001b[0;34m(\u001b[0m\u001b[0mint\u001b[0m\u001b[0;34m)\u001b[0m\u001b[0;34m\u001b[0m\u001b[0;34m\u001b[0m\u001b[0m\n\u001b[0m\u001b[1;32m     10\u001b[0m \u001b[0mmesh2d_face_y\u001b[0m \u001b[0;34m=\u001b[0m \u001b[0mdataset_map\u001b[0m\u001b[0;34m.\u001b[0m\u001b[0mvariables\u001b[0m\u001b[0;34m[\u001b[0m\u001b[0;34m'mesh2d_face_y'\u001b[0m\u001b[0;34m]\u001b[0m\u001b[0;34m.\u001b[0m\u001b[0mastype\u001b[0m\u001b[0;34m(\u001b[0m\u001b[0mint\u001b[0m\u001b[0;34m)\u001b[0m\u001b[0;34m\u001b[0m\u001b[0;34m\u001b[0m\u001b[0m\n\u001b[1;32m     11\u001b[0m \u001b[0mprint\u001b[0m\u001b[0;34m(\u001b[0m\u001b[0mdo\u001b[0m\u001b[0;34m)\u001b[0m\u001b[0;34m\u001b[0m\u001b[0;34m\u001b[0m\u001b[0m\n",
      "\u001b[0;32mnetCDF4/_netCDF4.pyx\u001b[0m in \u001b[0;36mnetCDF4._netCDF4.Variable.__getattr__\u001b[0;34m()\u001b[0m\n",
      "\u001b[0;32mnetCDF4/_netCDF4.pyx\u001b[0m in \u001b[0;36mnetCDF4._netCDF4.Variable.getncattr\u001b[0;34m()\u001b[0m\n",
      "\u001b[0;32mnetCDF4/_netCDF4.pyx\u001b[0m in \u001b[0;36mnetCDF4._netCDF4._get_att\u001b[0;34m()\u001b[0m\n",
      "\u001b[0;32mnetCDF4/_netCDF4.pyx\u001b[0m in \u001b[0;36mnetCDF4._netCDF4._ensure_nc_success\u001b[0;34m()\u001b[0m\n",
      "\u001b[0;31mAttributeError\u001b[0m: NetCDF: Attribute not found"
     ]
    }
   ],
   "source": [
    "from scipy import sparse\n",
    "dataset_map =  Dataset('/home/jovyan/test_1_map.nc')\n",
    "print(dataset_map.variables.keys())\n",
    "do = dataset_map.variables['mesh2d_OXY']\n",
    "print(do.dimensions)\n",
    "print(do.shape)\n",
    "dlwq_time = dataset_map.variables['nmesh2d_dlwq_time']\n",
    "layer = dataset_map.variables['nmesh2d_layer_dlwq']\n",
    "mesh2d_face_x = dataset_map.variables['mesh2d_face_x']\n",
    "mesh2d_face_y = dataset_map.variables['mesh2d_face_y']\n",
    "print(do)\n",
    "print(dlwq_time)\n",
    "print(layer)\n",
    "print(mesh2d_face_x)\n",
    "temp_map = dataset_map.variables[\"mesh2d_OXY\"][1][1]\n",
    "print(temp_map)\n",
    "print()\n",
    "x = np.array([temp_map,mesh2d_face_x[:],mesh2d_face_y[:]])\n",
    "print(x)\n",
    "#plt.plot(dataset_map.variables['mesh2d_BLUEGRN'][1][24][5])\n",
    "#plt.show()\n",
    "#temp_map\n",
    "#np.asarray(temp_map).ndim\n",
    "#plt.figure(1)\n",
    "#plt.imshow(x)\n",
    "print(len(set(mesh2d_face_x[:])))"
   ]
  },
  {
   "cell_type": "code",
   "execution_count": 48,
   "metadata": {},
   "outputs": [
    {
     "name": "stdout",
     "output_type": "stream",
     "text": [
      "[     0  21600  43200  64800  86400 108000 129600 151200 172800]\n"
     ]
    }
   ],
   "source": [
    "time = dlwq_time[:] \n",
    "print(time)"
   ]
  },
  {
   "cell_type": "code",
   "execution_count": 53,
   "metadata": {},
   "outputs": [
    {
     "name": "stdout",
     "output_type": "stream",
     "text": [
      "(35,)\n",
      "('nmesh2d_layer_dlwq',)\n",
      "[0.02857143 0.02857143 0.02857143 0.02857143 0.02857143 0.02857143\n",
      " 0.02857143 0.02857143 0.02857143 0.02857143 0.02857143 0.02857143\n",
      " 0.02857143 0.02857143 0.02857143 0.02857143 0.02857143 0.02857143\n",
      " 0.02857143 0.02857143 0.02857143 0.02857143 0.02857143 0.02857143\n",
      " 0.02857143 0.02857143 0.02857143 0.02857143 0.02857143 0.02857143\n",
      " 0.02857143 0.02857143 0.02857143 0.02857143 0.02857143]\n"
     ]
    }
   ],
   "source": [
    "dpth = layer[:]\n",
    "print(layer.shape)\n",
    "print(layer.dimensions)\n",
    "print(dpth)"
   ]
  },
  {
   "cell_type": "code",
   "execution_count": 213,
   "metadata": {},
   "outputs": [
    {
     "name": "stdout",
     "output_type": "stream",
     "text": [
      "[513586. 513586. 513586. ... 525386. 525486. 525486.]\n",
      "[4634182. 4634282. 4634382. ... 4631582. 4631382. 4631482.]\n"
     ]
    }
   ],
   "source": [
    "row = np.array(dataset_map.variables['mesh2d_face_x'][:])\n",
    "column = np.array(dataset_map.variables['mesh2d_face_y'][:])\n",
    "print(row)\n",
    "print(column)"
   ]
  },
  {
   "cell_type": "code",
   "execution_count": 231,
   "metadata": {},
   "outputs": [
    {
     "data": {
      "text/plain": [
       "<matplotlib.image.AxesImage at 0x7fa952712ba8>"
      ]
     },
     "execution_count": 231,
     "metadata": {},
     "output_type": "execute_result"
    },
    {
     "data": {
      "image/png": "[encoded data removed]",
      "text/plain": [
       "<Figure size 432x288 with 1 Axes>"
      ]
     },
     "metadata": {
      "needs_background": "light"
     },
     "output_type": "display_data"
    }
   ],
   "source": [
    "row = np.sort(np.unique(row))\n",
    "column = np.sort(np.unique(column))\n",
    "\n",
    "values = do[1][1]\n",
    "a = np.zeros((len(row), len(column)))\n",
    "values = do[1][1]\n",
    "\n",
    "for i in range(0,len(values)):\n",
    "    x = np.where(row == int(mesh2d_face_x[i]))\n",
    "    y = np.where(column == int(mesh2d_face_y[i]))\n",
    "    a[x,y] = values[i]\n",
    "    i = i + 1\n",
    "    \n",
    "plt.figure(1)\n",
    "plt.imshow(a)\n",
    "#plt.plot(dataset_map.variables[\"mesh2d_OXY\"][1][:][1])\n",
    "#plt.show()"
   ]
  },
  {
   "cell_type": "code",
   "execution_count": 191,
   "metadata": {},
   "outputs": [
    {
     "name": "stdout",
     "output_type": "stream",
     "text": [
      "120\n",
      "93\n"
     ]
    }
   ],
   "source": [
    "values = np.array(do[1][1])\n",
    "print(len(np.unique(mesh2d_face_x)))\n",
    "print(len(np.unique(mesh2d_face_y)))"
   ]
  },
  {
   "cell_type": "code",
   "execution_count": 24,
   "metadata": {},
   "outputs": [
    {
     "name": "stdout",
     "output_type": "stream",
     "text": [
      "['nmesh2d_edge', 'nmesh2d_node', 'Two', 'nmesh2d_face', 'max_nmesh2d_face_nodes', 'nSegmentsPerLayerDlwq', 'nmesh2d_layer_dlwq', 'nmesh2d_dlwq_time', 'two']\n"
     ]
    }
   ],
   "source": [
    "nc_variables = []\n",
    "for e in dataset_map.dimensions:\n",
    "    nc_variables.append(e)\n",
    "\n",
    "print(nc_variables)"
   ]
  },
  {
   "cell_type": "code",
   "execution_count": null,
   "metadata": {},
   "outputs": [],
   "source": [
    "dataset_map =  Dataset('/home/jovyan/test_1_map.nc')\n",
    "print(dataset_map.variables)\n",
    "print(dataset_map.dimensions)\n",
    "#temp_map = dataset_map.variables[\"mesh2d_BLUEGRN\"][1][29][:][:]\n",
    "#plt.plot(dataset_map.variables['mesh2d_BLUEGRN'][1][24][5])\n",
    "#plt.show()\n",
    "#temp_map\n",
    "#np.asarray(temp_map).ndim\n",
    "#plt.figure(1)\n",
    "#plt.imshow(temp_map)"
   ]
  },
  {
   "cell_type": "code",
   "execution_count": 11,
   "metadata": {},
   "outputs": [
    {
     "ename": "IndexError",
     "evalue": "invalid index to scalar variable.",
     "output_type": "error",
     "traceback": [
      "\u001b[0;31m---------------------------------------------------------------------------\u001b[0m",
      "\u001b[0;31mIndexError\u001b[0m                                Traceback (most recent call last)",
      "\u001b[0;32m<ipython-input-11-52e5f3656fa6>\u001b[0m in \u001b[0;36m<module>\u001b[0;34m\u001b[0m\n\u001b[0;32m----> 1\u001b[0;31m \u001b[0mtemp_map\u001b[0m\u001b[0;34m(\u001b[0m\u001b[0;34m'/home/jovyan/guadalquivir_prueba.hydro.nc'\u001b[0m\u001b[0;34m,\u001b[0m \u001b[0;34m'2012-01-01 00:00:00'\u001b[0m\u001b[0;34m,\u001b[0m \u001b[0;34m'2012-01-01 01:00:00'\u001b[0m\u001b[0;34m,\u001b[0m \u001b[0;36m7\u001b[0m\u001b[0;34m,\u001b[0m\u001b[0;34m'water_level'\u001b[0m\u001b[0;34m)\u001b[0m\u001b[0;34m\u001b[0m\u001b[0;34m\u001b[0m\u001b[0m\n\u001b[0m",
      "\u001b[0;32m<ipython-input-9-049cdd44b3a4>\u001b[0m in \u001b[0;36mtemp_map\u001b[0;34m(file, ini_date, end_date, z, variable)\u001b[0m\n\u001b[1;32m     18\u001b[0m         \u001b[0mtime\u001b[0m \u001b[0;34m=\u001b[0m \u001b[0;34m(\u001b[0m\u001b[0mdelta_time\u001b[0m\u001b[0;34m/\u001b[0m\u001b[0;36m21600\u001b[0m\u001b[0;34m)\u001b[0m\u001b[0;34m\u001b[0m\u001b[0;34m\u001b[0m\u001b[0m\n\u001b[1;32m     19\u001b[0m         \u001b[0;31m#TODO Select variables\u001b[0m\u001b[0;34m\u001b[0m\u001b[0;34m\u001b[0m\u001b[0;34m\u001b[0m\u001b[0m\n\u001b[0;32m---> 20\u001b[0;31m         \u001b[0mtemp_map\u001b[0m \u001b[0;34m=\u001b[0m \u001b[0mdataset_map\u001b[0m\u001b[0;34m.\u001b[0m\u001b[0mvariables\u001b[0m\u001b[0;34m[\u001b[0m\u001b[0mvariable\u001b[0m\u001b[0;34m]\u001b[0m\u001b[0;34m[\u001b[0m\u001b[0mtime\u001b[0m\u001b[0;34m]\u001b[0m\u001b[0;34m[\u001b[0m\u001b[0;36m1\u001b[0m\u001b[0;34m]\u001b[0m\u001b[0;34m[\u001b[0m\u001b[0mlayer\u001b[0m\u001b[0;34m]\u001b[0m\u001b[0;34m[\u001b[0m\u001b[0;34m:\u001b[0m\u001b[0;34m]\u001b[0m\u001b[0;34m[\u001b[0m\u001b[0;34m:\u001b[0m\u001b[0;34m]\u001b[0m\u001b[0;34m\u001b[0m\u001b[0;34m\u001b[0m\u001b[0m\n\u001b[0m\u001b[1;32m     21\u001b[0m         \u001b[0;31m#TODO slider for dates\u001b[0m\u001b[0;34m\u001b[0m\u001b[0;34m\u001b[0m\u001b[0;34m\u001b[0m\u001b[0m\n\u001b[1;32m     22\u001b[0m         \u001b[0mtemp_map\u001b[0m \u001b[0;34m=\u001b[0m \u001b[0mnp\u001b[0m\u001b[0;34m.\u001b[0m\u001b[0mma\u001b[0m\u001b[0;34m.\u001b[0m\u001b[0mmasked_where\u001b[0m\u001b[0;34m(\u001b[0m\u001b[0mtemp_map\u001b[0m \u001b[0;34m<=\u001b[0m \u001b[0;36m0\u001b[0m\u001b[0;34m,\u001b[0m \u001b[0mtemp_map\u001b[0m\u001b[0;34m)\u001b[0m\u001b[0;34m\u001b[0m\u001b[0;34m\u001b[0m\u001b[0m\n",
      "\u001b[0;31mIndexError\u001b[0m: invalid index to scalar variable."
     ]
    }
   ],
   "source": [
    "temp_map('/home/jovyan/guadalquivir_prueba.hydro.nc', '2012-01-01 00:00:00', '2012-01-01 01:00:00', 7,'water_level')"
   ]
  }
 ],
 "metadata": {
  "kernelspec": {
   "display_name": "Python 3",
   "language": "python",
   "name": "python3"
  },
  "language_info": {
   "codemirror_mode": {
    "name": "ipython",
    "version": 3
   },
   "file_extension": ".py",
   "mimetype": "text/x-python",
   "name": "python",
   "nbconvert_exporter": "python",
   "pygments_lexer": "ipython3",
   "version": "3.6.7"
  }
 },
 "nbformat": 4,
 "nbformat_minor": 2
}
