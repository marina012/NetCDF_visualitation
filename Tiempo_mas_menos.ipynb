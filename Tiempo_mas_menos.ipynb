{
 "cells": [
  {
   "cell_type": "code",
   "execution_count": 1,
   "metadata": {},
   "outputs": [
    {
     "name": "stdout",
     "output_type": "stream",
     "text": [
      "NETCDF4_CLASSIC\n"
     ]
    }
   ],
   "source": [
    "from netCDF4 import Dataset\n",
    "\n",
    "dataset= Dataset('Documentos/hola.nc', 'w', format='NETCDF4_CLASSIC')\n",
    "print(dataset.data_model)"
   ]
  },
  {
   "cell_type": "code",
   "execution_count": 2,
   "metadata": {},
   "outputs": [],
   "source": [
    "lat = dataset.createDimension('lat', 73)\n",
    "lon = dataset.createDimension('lon', 144)\n",
    "time = dataset.createDimension('time', None)"
   ]
  },
  {
   "cell_type": "code",
   "execution_count": 3,
   "metadata": {},
   "outputs": [
    {
     "name": "stdout",
     "output_type": "stream",
     "text": [
      "lat 73 False\n",
      "lon 144 False\n",
      "time 0 True\n"
     ]
    }
   ],
   "source": [
    "for dimname in dataset.dimensions.keys():\n",
    "    dim = dataset.dimensions[dimname]\n",
    "    print(dimname, len(dim), dim.isunlimited())"
   ]
  },
  {
   "cell_type": "code",
   "execution_count": 4,
   "metadata": {},
   "outputs": [],
   "source": [
    "import numpy as np\n",
    "\n",
    "times = dataset.createVariable('time', np.float64, ('time',))\n",
    "latitudes = dataset.createVariable('latitude', np.float32,('lat',))\n",
    "longitudes = dataset.createVariable('longitude', np.float32,('lon',)) \n",
    "temp = dataset.createVariable('temp', np.float32, ('time','lat','lon')) \n"
   ]
  },
  {
   "cell_type": "code",
   "execution_count": 5,
   "metadata": {},
   "outputs": [],
   "source": [
    "latitudes.units = 'degree_north'\n",
    "longitudes.units = 'degree_north'\n",
    "temp.units = 'K'\n",
    "times.units= 'hours since 00:00:00'\n",
    "times.calendar = 'gregorian'"
   ]
  },
  {
   "cell_type": "code",
   "execution_count": 6,
   "metadata": {},
   "outputs": [],
   "source": [
    "lats = np.arange(-90,91,2.5)\n",
    "lons = np.arange(-180,180,2.5)\n",
    "latitudes[:] = lats\n",
    "longitudes[:] = lons"
   ]
  },
  {
   "cell_type": "code",
   "execution_count": 7,
   "metadata": {},
   "outputs": [
    {
     "name": "stdout",
     "output_type": "stream",
     "text": [
      "(0, 73, 144)\n"
     ]
    }
   ],
   "source": [
    "print(temp.shape)"
   ]
  },
  {
   "cell_type": "code",
   "execution_count": 8,
   "metadata": {},
   "outputs": [
    {
     "name": "stdout",
     "output_type": "stream",
     "text": [
      "[8, 5, 4, 0, 7, 9, 1, 3, 6, 2]\n",
      "len 10\n"
     ]
    }
   ],
   "source": [
    "numeros = range(0,10)\n",
    "numeros= list(numeros)\n",
    "np.random.shuffle(numeros)\n",
    "times = numeros\n",
    "print(times[:])\n",
    "print(\"len\", len(times))\n"
   ]
  },
  {
   "cell_type": "code",
   "execution_count": 9,
   "metadata": {},
   "outputs": [
    {
     "name": "stdout",
     "output_type": "stream",
     "text": [
      "before adding data (10, 73, 144)\n"
     ]
    }
   ],
   "source": [
    "from numpy.random import uniform\n",
    "nlats= len(dataset.dimensions['lat'])\n",
    "nlons = len(dataset.dimensions['lon'])\n",
    "temp[0:10,:,:] = uniform (size=(10,nlats,nlons))\n",
    "print(\"before adding data\", temp.shape)"
   ]
  },
  {
   "cell_type": "code",
   "execution_count": 10,
   "metadata": {},
   "outputs": [
    {
     "name": "stdout",
     "output_type": "stream",
     "text": [
      "len 10\n"
     ]
    }
   ],
   "source": [
    "print(\"len\", len(times))"
   ]
  },
  {
   "cell_type": "markdown",
   "metadata": {},
   "source": [
    "#Una vez asignados los valores los ordeno segun el tiempo, de mayor a menor."
   ]
  },
  {
   "cell_type": "code",
   "execution_count": 11,
   "metadata": {},
   "outputs": [
    {
     "name": "stdout",
     "output_type": "stream",
     "text": [
      "[9 8 7 6 5 4 3 2 1 0]\n",
      "añado  8 en la posicion 0\n",
      "añado  7 en la posicion 4\n",
      "añado  6 en la posicion 8\n",
      "añado  5 en la posicion 1\n",
      "añado  4 en la posicion 2\n",
      "añado  3 en la posicion 7\n",
      "añado  2 en la posicion 9\n",
      "añado  1 en la posicion 6\n",
      "añado  0 en la posicion 3\n",
      "[5 0 4 8 1 2 7 9 6 3]\n",
      "[8, 5, 4, 0, 7, 9, 1, 3, 6, 2]\n"
     ]
    }
   ],
   "source": [
    "lista_ordenada=np.sort(times)\n",
    "lista_ordenada= lista_ordenada[::-1]\n",
    "\n",
    "print(lista_ordenada)\n",
    "\n",
    "orden= np.array([times.index(max(times))])\n",
    "for n in lista_ordenada[1:]:\n",
    "    orden=np.append(orden,times.index(n))\n",
    "    print(\"añado \",n, \"en la posicion\", times.index(n))\n",
    "    \n",
    "print(orden)\n",
    "print(times[:])\n"
   ]
  },
  {
   "cell_type": "code",
   "execution_count": 12,
   "metadata": {},
   "outputs": [
    {
     "name": "stdout",
     "output_type": "stream",
     "text": [
      "0 0.17274928 0.17274928\n",
      "1 0.83959657 0.83959657\n",
      "2 0.9633705 0.9633705\n",
      "3 0.2513687 0.2513687\n",
      "4 0.110196136 0.110196136\n",
      "5 0.75207335 0.75207335\n",
      "6 0.643098 0.643098\n",
      "7 0.41441867 0.41441867\n",
      "8 0.40333214 0.40333214\n",
      "9 0.11138216 0.11138216\n"
     ]
    }
   ],
   "source": [
    "aux= temp[:,:,:]\n",
    "for n in range(len(times)):\n",
    "    print(n,temp[n,0,0],aux[n,0,0])"
   ]
  },
  {
   "cell_type": "code",
   "execution_count": 13,
   "metadata": {},
   "outputs": [],
   "source": [
    "\n",
    "\n",
    "for n in range(len(times)):\n",
    "    temp[n,:,:] = aux[orden[n],:,:]\n",
    "    \n"
   ]
  },
  {
   "cell_type": "code",
   "execution_count": 14,
   "metadata": {},
   "outputs": [
    {
     "name": "stdout",
     "output_type": "stream",
     "text": [
      "0 0.75207335 0.17274928\n",
      "1 0.17274928 0.83959657\n",
      "2 0.110196136 0.9633705\n",
      "3 0.40333214 0.2513687\n",
      "4 0.83959657 0.110196136\n",
      "5 0.9633705 0.75207335\n",
      "6 0.41441867 0.643098\n",
      "7 0.11138216 0.41441867\n",
      "8 0.643098 0.40333214\n",
      "9 0.2513687 0.11138216\n"
     ]
    }
   ],
   "source": [
    "for n in range(len(times)):\n",
    "    print(n,temp[n,0,0],aux[n,0,0])"
   ]
  },
  {
   "cell_type": "code",
   "execution_count": 15,
   "metadata": {},
   "outputs": [],
   "source": [
    "dataset.close()"
   ]
  },
  {
   "cell_type": "code",
   "execution_count": null,
   "metadata": {},
   "outputs": [],
   "source": []
  }
 ],
 "metadata": {
  "kernelspec": {
   "display_name": "Python 3",
   "language": "python",
   "name": "python3"
  },
  "language_info": {
   "codemirror_mode": {
    "name": "ipython",
    "version": 3
   },
   "file_extension": ".py",
   "mimetype": "text/x-python",
   "name": "python",
   "nbconvert_exporter": "python",
   "pygments_lexer": "ipython3",
   "version": "3.6.6"
  }
 },
 "nbformat": 4,
 "nbformat_minor": 2
}
