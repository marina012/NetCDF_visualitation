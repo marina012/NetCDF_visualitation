{
 "cells": [
  {
   "cell_type": "code",
   "execution_count": 1,
   "metadata": {},
   "outputs": [
    {
     "name": "stdout",
     "output_type": "stream",
     "text": [
      "NETCDF4_CLASSIC\n"
     ]
    }
   ],
   "source": [
    "from netCDF4 import Dataset\n",
    "\n",
    "dataset= Dataset('Documentos/test_mas_menos.nc', 'w', format='NETCDF4_CLASSIC')\n",
    "print(dataset.data_model)"
   ]
  },
  {
   "cell_type": "code",
   "execution_count": 2,
   "metadata": {},
   "outputs": [],
   "source": [
    "lat = dataset.createDimension('lat', 73)\n",
    "lon = dataset.createDimension('lon', 144)\n",
    "time = dataset.createDimension('time', None)"
   ]
  },
  {
   "cell_type": "code",
   "execution_count": 3,
   "metadata": {},
   "outputs": [
    {
     "name": "stdout",
     "output_type": "stream",
     "text": [
      "lat 73 False\n",
      "lon 144 False\n",
      "time 0 True\n"
     ]
    }
   ],
   "source": [
    "for dimname in dataset.dimensions.keys():\n",
    "    dim = dataset.dimensions[dimname]\n",
    "    print(dimname, len(dim), dim.isunlimited())"
   ]
  },
  {
   "cell_type": "code",
   "execution_count": 4,
   "metadata": {},
   "outputs": [],
   "source": [
    "import numpy as np\n",
    "\n",
    "times = dataset.createVariable('time', np.float64, ('time',))\n",
    "latitudes = dataset.createVariable('latitude', np.float32,('lat',))\n",
    "longitudes = dataset.createVariable('longitude', np.float32,('lon',)) \n",
    "temp = dataset.createVariable('temp', np.float32, ('time','lat','lon')) \n"
   ]
  },
  {
   "cell_type": "code",
   "execution_count": 5,
   "metadata": {},
   "outputs": [],
   "source": [
    "latitudes.units = 'degree_north'\n",
    "longitudes.units = 'degree_north'\n",
    "temp.units = 'K'\n",
    "times.units= 'hours since 00:00:00'\n",
    "times.calendar = 'gregorian'"
   ]
  },
  {
   "cell_type": "code",
   "execution_count": 6,
   "metadata": {},
   "outputs": [],
   "source": [
    "lats = np.arange(-90,91,2.5)\n",
    "lons = np.arange(-180,180,2.5)\n",
    "latitudes[:] = lats\n",
    "longitudes[:] = lons"
   ]
  },
  {
   "cell_type": "code",
   "execution_count": 7,
   "metadata": {},
   "outputs": [
    {
     "name": "stdout",
     "output_type": "stream",
     "text": [
      "(0, 73, 144)\n"
     ]
    }
   ],
   "source": [
    "print(temp.shape)"
   ]
  },
  {
   "cell_type": "code",
   "execution_count": 8,
   "metadata": {},
   "outputs": [
    {
     "name": "stdout",
     "output_type": "stream",
     "text": [
      "[3, 2, 8, 5, 4, 7, 6, 0, 1, 9]\n",
      "len 10\n"
     ]
    }
   ],
   "source": [
    "numeros = range(0,10)\n",
    "numeros= list(numeros)\n",
    "np.random.shuffle(numeros)\n",
    "times = numeros\n",
    "print(times[:])\n",
    "print(\"len\", len(times))\n"
   ]
  },
  {
   "cell_type": "code",
   "execution_count": 9,
   "metadata": {},
   "outputs": [
    {
     "name": "stdout",
     "output_type": "stream",
     "text": [
      "before adding data (10, 73, 144)\n"
     ]
    }
   ],
   "source": [
    "from numpy.random import uniform\n",
    "nlats= len(dataset.dimensions['lat'])\n",
    "nlons = len(dataset.dimensions['lon'])\n",
    "temp[0:10,:,:] = uniform (size=(10,nlats,nlons))\n",
    "print(\"before adding data\", temp.shape)"
   ]
  },
  {
   "cell_type": "code",
   "execution_count": 10,
   "metadata": {},
   "outputs": [
    {
     "name": "stdout",
     "output_type": "stream",
     "text": [
      "len 10\n"
     ]
    }
   ],
   "source": [
    "print(\"len\", len(times))"
   ]
  },
  {
   "cell_type": "markdown",
   "metadata": {},
   "source": [
    "#Una vez asignados los valores los ordeno segun el tiempo, de mayor a menor."
   ]
  },
  {
   "cell_type": "code",
   "execution_count": 11,
   "metadata": {},
   "outputs": [
    {
     "name": "stdout",
     "output_type": "stream",
     "text": [
      "[0 1 2 3 4 5 6 7 8 9]\n",
      "añado  1 en la posicion 8\n",
      "añado  2 en la posicion 1\n",
      "añado  3 en la posicion 0\n",
      "añado  4 en la posicion 4\n",
      "añado  5 en la posicion 3\n",
      "añado  6 en la posicion 6\n",
      "añado  7 en la posicion 5\n",
      "añado  8 en la posicion 2\n",
      "añado  9 en la posicion 9\n",
      "[7 8 1 0 4 3 6 5 2 9]\n",
      "[3, 2, 8, 5, 4, 7, 6, 0, 1, 9]\n"
     ]
    }
   ],
   "source": [
    "lista_ordenada=np.sort(times)\n",
    "print(lista_ordenada)\n",
    "orden= np.array([times.index(0)])\n",
    "for n in lista_ordenada[1:]:\n",
    "    orden=np.append(orden,times.index(n))\n",
    "    print(\"añado \",n, \"en la posicion\", times.index(n))\n",
    "    \n",
    "print(orden)\n",
    "print(times[:])\n"
   ]
  },
  {
   "cell_type": "code",
   "execution_count": 12,
   "metadata": {},
   "outputs": [
    {
     "name": "stdout",
     "output_type": "stream",
     "text": [
      "0 0.29727253\n",
      "1 0.41315424\n",
      "2 0.2501566\n",
      "3 0.33531561\n",
      "4 0.7605099\n",
      "5 0.0046150554\n",
      "6 0.9092644\n",
      "7 0.43049353\n",
      "8 0.7050595\n",
      "9 0.30830356\n"
     ]
    }
   ],
   "source": [
    "for n in range(len(times)):\n",
    "    print(n,temp[n,0,0])"
   ]
  },
  {
   "cell_type": "code",
   "execution_count": 13,
   "metadata": {},
   "outputs": [
    {
     "name": "stdout",
     "output_type": "stream",
     "text": [
      "cambio 0 por 7 valor 0.29727253 0.43049353\n",
      "cambio 1 por 8 valor 0.41315424 0.43049353\n",
      "cambio 2 por 1 valor 0.2501566 0.43049353\n",
      "cambio 3 por 0 valor 0.33531561 0.43049353\n",
      "cambio 4 por 4 valor 0.7605099 0.43049353\n",
      "cambio 5 por 3 valor 0.0046150554 0.43049353\n",
      "cambio 6 por 6 valor 0.9092644 0.43049353\n",
      "cambio 7 por 5 valor 0.43049353 0.43049353\n",
      "cambio 8 por 2 valor 0.7050595 0.43049353\n",
      "cambio 9 por 9 valor 0.30830356 0.43049353\n"
     ]
    }
   ],
   "source": [
    "aux= temp[:,:,:]\n",
    "\n",
    "for n in range(len(times)):\n",
    "    print(\"cambio\",n, \"por\", orden[n],\"valor\", temp[n,0,0], aux[orden[0],0,0])\n",
    "    temp[n,:,:] = aux[orden[n],:,:]\n",
    "    \n"
   ]
  },
  {
   "cell_type": "code",
   "execution_count": 14,
   "metadata": {},
   "outputs": [
    {
     "name": "stdout",
     "output_type": "stream",
     "text": [
      "0 0.43049353\n",
      "1 0.7050595\n",
      "2 0.41315424\n",
      "3 0.29727253\n",
      "4 0.7605099\n",
      "5 0.33531561\n",
      "6 0.9092644\n",
      "7 0.0046150554\n",
      "8 0.2501566\n",
      "9 0.30830356\n"
     ]
    }
   ],
   "source": [
    "for n in range(len(times)):\n",
    "    print(n,temp[n,0,0])"
   ]
  },
  {
   "cell_type": "code",
   "execution_count": null,
   "metadata": {},
   "outputs": [],
   "source": []
  }
 ],
 "metadata": {
  "kernelspec": {
   "display_name": "Python 3",
   "language": "python",
   "name": "python3"
  },
  "language_info": {
   "codemirror_mode": {
    "name": "ipython",
    "version": 3
   },
   "file_extension": ".py",
   "mimetype": "text/x-python",
   "name": "python",
   "nbconvert_exporter": "python",
   "pygments_lexer": "ipython3",
   "version": "3.6.6"
  }
 },
 "nbformat": 4,
 "nbformat_minor": 2
}
