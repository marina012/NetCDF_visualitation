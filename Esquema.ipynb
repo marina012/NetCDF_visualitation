{
 "cells": [
  {
   "cell_type": "code",
   "execution_count": 1,
   "metadata": {},
   "outputs": [
    {
     "name": "stdout",
     "output_type": "stream",
     "text": [
      "NETCDF4_CLASSIC\n"
     ]
    }
   ],
   "source": [
    "from netCDF4 import Dataset\n",
    "\n",
    "dataset= Dataset('hola.nc', 'w', format='NETCDF4_CLASSIC')\n",
    "print(dataset.data_model)"
   ]
  },
  {
   "cell_type": "code",
   "execution_count": 2,
   "metadata": {},
   "outputs": [],
   "source": [
    "lat = dataset.createDimension('lat', 73)\n",
    "lon = dataset.createDimension('lon', 144)\n",
    "time = dataset.createDimension('time', None)\n",
    "depth= dataset.createDimension('depth', 30)"
   ]
  },
  {
   "cell_type": "code",
   "execution_count": 3,
   "metadata": {},
   "outputs": [],
   "source": [
    "import numpy as np\n",
    "\n",
    "times = dataset.createVariable('time', np.float64, ('time',))\n",
    "depths = dataset.createVariable('depth', np.float64, ('depth',))\n",
    "latitudes = dataset.createVariable('latitude', np.float32,('lat',))\n",
    "longitudes = dataset.createVariable('longitude', np.float32,('lon',)) \n",
    "temp = dataset.createVariable('temperature', np.float32, ('time','depth','lat','lon')) \n",
    "pH = dataset.createVariable('pH', np.float32, ('time','depth','lat','lon')) \n",
    "turb = dataset.createVariable('turbidity', np.float32, ('time','depth','lat','lon')) \n"
   ]
  },
  {
   "cell_type": "code",
   "execution_count": 4,
   "metadata": {},
   "outputs": [],
   "source": [
    "latitudes.units = 'degree_north'\n",
    "longitudes.units = 'degree_north'\n",
    "temp.units = 'K'\n",
    "pH.units = 'pH'\n",
    "turb.units = 'NTU'\n",
    "times.units= 'hours since 00:00:00'\n",
    "times.calendar = 'gregorian'"
   ]
  },
  {
   "cell_type": "code",
   "execution_count": 5,
   "metadata": {},
   "outputs": [],
   "source": [
    "lats = np.arange(-90,91,2.5)\n",
    "lons = np.arange(-180,180,2.5)\n",
    "prof= np.arange(0,300,10)\n",
    "\n",
    "latitudes[:] = lats\n",
    "depths[:] = prof\n",
    "longitudes[:] = lons"
   ]
  },
  {
   "cell_type": "code",
   "execution_count": 6,
   "metadata": {},
   "outputs": [
    {
     "name": "stdout",
     "output_type": "stream",
     "text": [
      "[0, 1, 2]\n",
      "len 3\n"
     ]
    }
   ],
   "source": [
    "numeros = range(0,3)\n",
    "numeros= list(numeros)\n",
    "times = numeros\n",
    "print(times[:])\n",
    "print(\"len\", len(times))\n"
   ]
  },
  {
   "cell_type": "code",
   "execution_count": 7,
   "metadata": {},
   "outputs": [
    {
     "name": "stdout",
     "output_type": "stream",
     "text": [
      "30\n",
      "after adding data (3, 30, 73, 144)\n"
     ]
    }
   ],
   "source": [
    "from numpy.random import uniform\n",
    "nlats= len(dataset.dimensions['lat'])\n",
    "nlons = len(dataset.dimensions['lon'])\n",
    "ndepths = len(dataset.dimensions['depth'])\n",
    "print(ndepths)\n",
    "temp[0:3,:,:,:] = uniform (size=(3,ndepths,nlats,nlons))\n",
    "pH[0:3,:,:,:] = uniform (size=(3,ndepths,nlats,nlons))\n",
    "turb[0:3,:,:,:] = uniform (size=(3,ndepths,nlats,nlons))\n",
    "print(\"after adding data\", temp.shape)\n"
   ]
  },
  {
   "cell_type": "code",
   "execution_count": 8,
   "metadata": {},
   "outputs": [],
   "source": [
    "import ipywidgets as widgets\n",
    "from IPython.display import display\n",
    "import matplotlib.pyplot as plt"
   ]
  },
  {
   "cell_type": "code",
   "execution_count": 9,
   "metadata": {},
   "outputs": [],
   "source": [
    "slider = widgets.IntSlider(\n",
    "    value=0,\n",
    "    min=0,\n",
    "    max=30,\n",
    "    readout=True\n",
    "\n",
    ")"
   ]
  },
  {
   "cell_type": "code",
   "execution_count": 10,
   "metadata": {},
   "outputs": [
    {
     "name": "stdout",
     "output_type": "stream",
     "text": [
      "['temperature' 'pH' 'turbidity']\n"
     ]
    }
   ],
   "source": [
    "variables= []\n",
    "for n in dataset.variables.keys():\n",
    "    if n not in {'time', 'depth', 'latitude', 'longitude'}:\n",
    "        variables=np.append(variables,n)\n",
    "    \n",
    "print(variables)"
   ]
  },
  {
   "cell_type": "code",
   "execution_count": 11,
   "metadata": {},
   "outputs": [],
   "source": [
    "label_prof=widgets.Label(value='Z')"
   ]
  },
  {
   "cell_type": "code",
   "execution_count": 12,
   "metadata": {},
   "outputs": [
    {
     "data": {
      "application/vnd.jupyter.widget-view+json": {
       "model_id": "37d8acd8160845ffa7869a70f0c3382e",
       "version_major": 2,
       "version_minor": 0
      },
      "text/plain": [
       "Dropdown(description='Fecha:', options=(('2015-01-01 00:00:00', 0), ('2015-01-02 00:00:00', 1), ('2015-01-03 0…"
      ]
     },
     "metadata": {},
     "output_type": "display_data"
    }
   ],
   "source": [
    "from datetime import datetime, timedelta\n",
    "fecha_base= datetime(2015, 1, 1)\n",
    "\n",
    "drop_var=widgets.Dropdown(\n",
    "    options=[(variables[n], n) for n in range(len(variables))],\n",
    "    value=0,\n",
    "    description='Variables:',\n",
    ")\n",
    "\n",
    "drop_date=widgets.Dropdown(\n",
    "    options=[(str(fecha_base + np.sort(times)[n] *timedelta(hours=24)), n) for n in range(len(times))],\n",
    "    value=0,\n",
    "    description='Fecha:',\n",
    ")\n",
    "\n",
    "drop_date"
   ]
  },
  {
   "cell_type": "code",
   "execution_count": 13,
   "metadata": {},
   "outputs": [],
   "source": [
    "from ipywidgets import Layout, VBox, HBox\n",
    "\n",
    "box_layout = Layout(display='flex',\n",
    "                    flex_flow='row',\n",
    "                    align_items='stretch',\n",
    "                    width='100%')\n",
    "slider_layout= Layout(display='flex',\n",
    "                    flex_flow='column',\n",
    "                    align_items='center',\n",
    "                    width='100%')\n",
    "\n",
    "\n",
    "vb_slider= VBox([label_prof, slider], layout=slider_layout)\n",
    "hb=HBox([drop_var, drop_date, vb_slider], layout=box_layout)"
   ]
  },
  {
   "cell_type": "code",
   "execution_count": 14,
   "metadata": {},
   "outputs": [],
   "source": [
    "prof=slider.value\n",
    "colores=['jet','Wistia', 'binary']\n",
    "propiedades=[variables[0],times[0],slider.value,colores[0]]"
   ]
  },
  {
   "cell_type": "code",
   "execution_count": 15,
   "metadata": {},
   "outputs": [],
   "source": [
    "def cambia_variable(var, array, index):\n",
    "    var=array[index]\n",
    "    \n",
    "def cambia_prof(variable, valor):\n",
    "    variable=valor"
   ]
  },
  {
   "cell_type": "code",
   "execution_count": 16,
   "metadata": {},
   "outputs": [
    {
     "name": "stdout",
     "output_type": "stream",
     "text": [
      "jet\n",
      "Wistia\n"
     ]
    }
   ],
   "source": [
    "def get_color(i):\n",
    "    return colores[i]\n",
    "\n",
    "print(get_color(0))\n",
    "\n",
    "print(get_color(1))"
   ]
  },
  {
   "cell_type": "code",
   "execution_count": 17,
   "metadata": {
    "scrolled": true
   },
   "outputs": [
    {
     "name": "stdout",
     "output_type": "stream",
     "text": [
      "temperature 2 28 jet\n"
     ]
    },
    {
     "data": {
      "application/vnd.jupyter.widget-view+json": {
       "model_id": "f2a68b37878649248a49ad45b8da0773",
       "version_major": 2,
       "version_minor": 0
      },
      "text/plain": [
       "HBox(children=(Dropdown(description='Variables:', options=(('temperature', 0), ('pH', 1), ('turbidity', 2)), v…"
      ]
     },
     "metadata": {},
     "output_type": "display_data"
    },
    {
     "data": {
      "text/plain": [
       "<matplotlib.image.AxesImage at 0x7f4ffcb95128>"
      ]
     },
     "metadata": {},
     "output_type": "display_data"
    },
    {
     "data": {
      "image/png": "[encoded data removed]",
      "text/plain": [
       "<Figure size 432x288 with 1 Axes>"
      ]
     },
     "metadata": {
      "needs_background": "light"
     },
     "output_type": "display_data"
    }
   ],
   "source": [
    "from IPython.display import clear_output\n",
    "\n",
    "\n",
    "def actualiza_display():\n",
    "    clear_output(wait=False)\n",
    "    display(hb, plt.imshow(dataset.variables[propiedades[0]][propiedades[1],propiedades[2],:,:], cmap= plt.get_cmap(propiedades[3])))\n",
    "    \n",
    "def slider_on_change(v):\n",
    "    propiedades[2]=v['new']\n",
    "    actualiza_display()\n",
    "    \n",
    "def date_on_change(v):\n",
    "    propiedades[1]=times[v['new']]\n",
    "    actualiza_display()\n",
    "    \n",
    "\n",
    "def variable_on_change(v):\n",
    "    propiedades[0]=variables[v['new']]\n",
    "    propiedades[3]=colores[v['new']]\n",
    "    actualiza_display()\n",
    "    \n",
    "\n",
    "drop_var.observe(variable_on_change, names='value')\n",
    "drop_date.observe(date_on_change, names='value')\n",
    "    \n",
    "slider.observe(slider_on_change, names='value')\n",
    "\n",
    "display(hb, plt.imshow(dataset.variables[propiedades[0]][propiedades[1],propiedades[2],:,:], cmap= plt.get_cmap(propiedades[3])))\n",
    "    "
   ]
  },
  {
   "cell_type": "code",
   "execution_count": null,
   "metadata": {},
   "outputs": [],
   "source": []
  }
 ],
 "metadata": {
  "kernelspec": {
   "display_name": "Python 3",
   "language": "python",
   "name": "python3"
  },
  "language_info": {
   "codemirror_mode": {
    "name": "ipython",
    "version": 3
   },
   "file_extension": ".py",
   "mimetype": "text/x-python",
   "name": "python",
   "nbconvert_exporter": "python",
   "pygments_lexer": "ipython3",
   "version": "3.6.6"
  }
 },
 "nbformat": 4,
 "nbformat_minor": 2
}
