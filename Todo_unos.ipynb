{
 "cells": [
  {
   "cell_type": "code",
   "execution_count": 1,
   "metadata": {},
   "outputs": [
    {
     "name": "stdout",
     "output_type": "stream",
     "text": [
      "NETCDF4_CLASSIC\n"
     ]
    }
   ],
   "source": [
    "from netCDF4 import Dataset\n",
    "\n",
    "dataset= Dataset('Documentos/test_unos.nc', 'w', format='NETCDF4_CLASSIC')\n",
    "print(dataset.data_model)"
   ]
  },
  {
   "cell_type": "code",
   "execution_count": 2,
   "metadata": {},
   "outputs": [],
   "source": [
    "lat = dataset.createDimension('lat', 73)\n",
    "lon = dataset.createDimension('lon', 144)\n",
    "time = dataset.createDimension('time', None)\n",
    "level = dataset.createDimension('level', 10)"
   ]
  },
  {
   "cell_type": "code",
   "execution_count": 3,
   "metadata": {},
   "outputs": [
    {
     "name": "stdout",
     "output_type": "stream",
     "text": [
      "lat 73 False\n",
      "lon 144 False\n",
      "time 0 True\n",
      "level 10 False\n"
     ]
    }
   ],
   "source": [
    "for dimname in dataset.dimensions.keys():\n",
    "    dim = dataset.dimensions[dimname]\n",
    "    print(dimname, len(dim), dim.isunlimited())"
   ]
  },
  {
   "cell_type": "code",
   "execution_count": 4,
   "metadata": {},
   "outputs": [],
   "source": [
    "import numpy as np\n",
    "\n",
    "times = dataset.createVariable('time', np.float64, ('time',))\n",
    "levels = dataset.createVariable('level', np.int32, ('level',))\n",
    "latitudes = dataset.createVariable('latitude', np.float32,('lat',))\n",
    "longitudes = dataset.createVariable('longitude', np.float32,('lon',)) \n",
    "temp = dataset.createVariable('temp', np.float32, ('time','level','lat','lon')) \n"
   ]
  },
  {
   "cell_type": "code",
   "execution_count": 5,
   "metadata": {},
   "outputs": [],
   "source": [
    "latitudes.units = 'degree_north'\n",
    "longitudes.units = 'degree_north'\n",
    "temp.units = 'K'\n",
    "levels.units = 'hPa'\n",
    "times.units= 'hours since 00:00:00'\n",
    "times.calendar = 'gregorian'"
   ]
  },
  {
   "cell_type": "code",
   "execution_count": 6,
   "metadata": {},
   "outputs": [],
   "source": [
    "lats = np.arange(-90,91,2.5)\n",
    "lons = np.arange(-180,180,2.5)\n",
    "latitudes[:] = lats\n",
    "longitudes[:] = lons"
   ]
  },
  {
   "cell_type": "code",
   "execution_count": 8,
   "metadata": {},
   "outputs": [
    {
     "name": "stdout",
     "output_type": "stream",
     "text": [
      "(0, 10, 73, 144)\n"
     ]
    }
   ],
   "source": [
    "print(temp.shape)"
   ]
  },
  {
   "cell_type": "code",
   "execution_count": 10,
   "metadata": {},
   "outputs": [],
   "source": [
    "times[0:10] = 1"
   ]
  },
  {
   "cell_type": "code",
   "execution_count": 11,
   "metadata": {},
   "outputs": [
    {
     "name": "stdout",
     "output_type": "stream",
     "text": [
      "(10, 10, 73, 144)\n"
     ]
    }
   ],
   "source": [
    "print(temp.shape)"
   ]
  },
  {
   "cell_type": "code",
   "execution_count": null,
   "metadata": {},
   "outputs": [],
   "source": []
  }
 ],
 "metadata": {
  "kernelspec": {
   "display_name": "Python 3",
   "language": "python",
   "name": "python3"
  },
  "language_info": {
   "codemirror_mode": {
    "name": "ipython",
    "version": 3
   },
   "file_extension": ".py",
   "mimetype": "text/x-python",
   "name": "python",
   "nbconvert_exporter": "python",
   "pygments_lexer": "ipython3",
   "version": "3.6.6"
  }
 },
 "nbformat": 4,
 "nbformat_minor": 2
}
