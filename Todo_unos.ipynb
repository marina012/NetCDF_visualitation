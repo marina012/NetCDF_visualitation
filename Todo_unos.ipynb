{
 "cells": [
  {
   "cell_type": "code",
   "execution_count": 1,
   "metadata": {},
   "outputs": [
    {
     "name": "stdout",
     "output_type": "stream",
     "text": [
      "NETCDF4_CLASSIC\n"
     ]
    }
   ],
   "source": [
    "from netCDF4 import Dataset\n",
    "\n",
    "dataset= Dataset('Documentos/test_unos.nc', 'w', format='NETCDF4_CLASSIC')\n",
    "print(dataset.data_model)"
   ]
  },
  {
   "cell_type": "code",
   "execution_count": 2,
   "metadata": {},
   "outputs": [],
   "source": [
    "lat = dataset.createDimension('lat', 73)\n",
    "lon = dataset.createDimension('lon', 144)\n",
    "time = dataset.createDimension('time', None)\n",
    "level = dataset.createDimension('level', 10)"
   ]
  },
  {
   "cell_type": "code",
   "execution_count": 3,
   "metadata": {},
   "outputs": [
    {
     "name": "stdout",
     "output_type": "stream",
     "text": [
      "lat 73 False\n",
      "lon 144 False\n",
      "time 0 True\n",
      "level 10 False\n"
     ]
    }
   ],
   "source": [
    "for dimname in dataset.dimensions.keys():\n",
    "    dim = dataset.dimensions[dimname]\n",
    "    print(dimname, len(dim), dim.isunlimited())"
   ]
  },
  {
   "cell_type": "code",
   "execution_count": 4,
   "metadata": {},
   "outputs": [],
   "source": [
    "import numpy as np\n",
    "\n",
    "times = dataset.createVariable('time', np.float64, ('time',))\n",
    "levels = dataset.createVariable('level', np.int32, ('level',))\n",
    "latitudes = dataset.createVariable('latitude', np.float32,('lat',))\n",
    "longitudes = dataset.createVariable('longitude', np.float32,('lon',)) \n",
    "temp = dataset.createVariable('temp', np.float32, ('time','level','lat','lon')) \n"
   ]
  },
  {
   "cell_type": "code",
   "execution_count": 5,
   "metadata": {},
   "outputs": [],
   "source": [
    "latitudes.units = 'degree_north'\n",
    "longitudes.units = 'degree_north'\n",
    "temp.units = 'K'\n",
    "levels.units = 'hPa'\n",
    "times.units= 'hours since 00:00:00'\n",
    "times.calendar = 'gregorian'"
   ]
  },
  {
   "cell_type": "code",
   "execution_count": 6,
   "metadata": {},
   "outputs": [],
   "source": [
    "lats = np.arange(-90,91,2.5)\n",
    "lons = np.arange(-180,180,2.5)\n",
    "latitudes[:] = lats\n",
    "longitudes[:] = lons"
   ]
  },
  {
   "cell_type": "code",
   "execution_count": 8,
   "metadata": {},
   "outputs": [
    {
     "name": "stdout",
     "output_type": "stream",
     "text": [
      "(0, 10, 73, 144)\n"
     ]
    }
   ],
   "source": [
    "print(temp.shape)"
   ]
  },
  {
   "cell_type": "code",
   "execution_count": 10,
   "metadata": {},
   "outputs": [],
   "source": [
    "times[0:10] = 1"
   ]
  },
  {
   "cell_type": "code",
   "execution_count": 29,
   "metadata": {},
   "outputs": [
    {
     "name": "stdout",
     "output_type": "stream",
     "text": [
      "(10, 10, 73, 144)\n",
      "[1. 1. 1. 1. 1. 1. 1. 1. 1. 1.]\n"
     ]
    }
   ],
   "source": [
    "print(temp.shape)\n",
    "print(times[:])"
   ]
  },
  {
   "cell_type": "code",
   "execution_count": 27,
   "metadata": {},
   "outputs": [
    {
     "name": "stdout",
     "output_type": "stream",
     "text": [
      "before adding data (10, 10, 73, 144)\n"
     ]
    }
   ],
   "source": [
    "from numpy.random import uniform\n",
    "nlats= len(dataset.dimensions['lat'])\n",
    "nlons = len(dataset.dimensions['lon'])\n",
    "temp[0:10,:,:] = uniform (size=(10,10,nlats,nlons))\n",
    "print(\"before adding data\", temp.shape)"
   ]
  },
  {
   "cell_type": "code",
   "execution_count": 32,
   "metadata": {},
   "outputs": [
    {
     "name": "stdout",
     "output_type": "stream",
     "text": [
      "[[[0.53768027 0.7841922  0.91092885 ... 0.17580116 0.7739618  0.06302261]\n",
      "  [0.49723867 0.10498758 0.59441185 ... 0.49289858 0.50820774 0.47441584]\n",
      "  [0.43491483 0.01251916 0.08635291 ... 0.9613221  0.62813395 0.43174323]\n",
      "  ...\n",
      "  [0.2596742  0.7795311  0.86225003 ... 0.22031598 0.44883865 0.2003616 ]\n",
      "  [0.9573855  0.4550296  0.6863394  ... 0.2972541  0.8627309  0.54603034]\n",
      "  [0.5696496  0.59450084 0.02324376 ... 0.32209352 0.46980485 0.68392265]]\n",
      "\n",
      " [[0.1433918  0.88992864 0.5918446  ... 0.14114179 0.37973863 0.9944404 ]\n",
      "  [0.7660012  0.5785562  0.22135527 ... 0.04474083 0.39232543 0.8744894 ]\n",
      "  [0.17808034 0.6799964  0.78392905 ... 0.76936513 0.33487782 0.24293151]\n",
      "  ...\n",
      "  [0.5135768  0.93819106 0.05729207 ... 0.17050248 0.9938108  0.00943985]\n",
      "  [0.5077463  0.8355003  0.6656979  ... 0.88233924 0.2522263  0.6620266 ]\n",
      "  [0.8237317  0.34207648 0.09630984 ... 0.13342048 0.7728033  0.5994197 ]]\n",
      "\n",
      " [[0.03410514 0.9026939  0.63175577 ... 0.6377655  0.31941316 0.86029506]\n",
      "  [0.68793184 0.39181915 0.0741595  ... 0.79291767 0.06945774 0.765508  ]\n",
      "  [0.7110445  0.3017503  0.6226812  ... 0.25101835 0.77406645 0.2670229 ]\n",
      "  ...\n",
      "  [0.3451899  0.25104797 0.7020033  ... 0.69419813 0.15518217 0.6864775 ]\n",
      "  [0.91613126 0.7663196  0.87038535 ... 0.90617025 0.71436524 0.7692222 ]\n",
      "  [0.96351165 0.07260789 0.50872004 ... 0.3018219  0.42890543 0.24707629]]\n",
      "\n",
      " ...\n",
      "\n",
      " [[0.27343267 0.3003095  0.73255706 ... 0.02404909 0.31383497 0.87731266]\n",
      "  [0.8814651  0.5425956  0.14486861 ... 0.7521255  0.40651396 0.30604163]\n",
      "  [0.9310501  0.54658866 0.01750921 ... 0.8554847  0.096424   0.69795865]\n",
      "  ...\n",
      "  [0.9694795  0.05131889 0.95607173 ... 0.86590815 0.732372   0.03271178]\n",
      "  [0.7498522  0.9445662  0.30899417 ... 0.5051201  0.7648587  0.38553274]\n",
      "  [0.27155462 0.36706588 0.68930656 ... 0.6675335  0.6877605  0.8437814 ]]\n",
      "\n",
      " [[0.37145066 0.81268466 0.9358422  ... 0.65289664 0.11306349 0.7390955 ]\n",
      "  [0.20693263 0.47279182 0.76320505 ... 0.73405415 0.05762891 0.8913333 ]\n",
      "  [0.07356001 0.98845536 0.3647665  ... 0.1997539  0.3053784  0.9464014 ]\n",
      "  ...\n",
      "  [0.25438327 0.03239379 0.9589626  ... 0.5251157  0.94758964 0.37465465]\n",
      "  [0.81543666 0.88739866 0.8214832  ... 0.17065865 0.9485522  0.7087602 ]\n",
      "  [0.02464437 0.8491222  0.27450138 ... 0.90809214 0.61788076 0.40505075]]\n",
      "\n",
      " [[0.38380158 0.70388    0.27397713 ... 0.51185554 0.9050727  0.68255055]\n",
      "  [0.45110545 0.3928784  0.98949134 ... 0.8809339  0.7690736  0.714219  ]\n",
      "  [0.18149303 0.9824419  0.6898286  ... 0.8985176  0.30954552 0.7725784 ]\n",
      "  ...\n",
      "  [0.7835195  0.1181981  0.7808848  ... 0.08076993 0.46458432 0.85336745]\n",
      "  [0.65044874 0.21655707 0.7468445  ... 0.802717   0.64284575 0.8741985 ]\n",
      "  [0.8456834  0.20252384 0.6769481  ... 0.2598065  0.30430412 0.26341838]]]\n"
     ]
    }
   ],
   "source": [
    "print(temp[2,:,:,:])"
   ]
  },
  {
   "cell_type": "code",
   "execution_count": null,
   "metadata": {},
   "outputs": [],
   "source": []
  }
 ],
 "metadata": {
  "kernelspec": {
   "display_name": "Python 3",
   "language": "python",
   "name": "python3"
  },
  "language_info": {
   "codemirror_mode": {
    "name": "ipython",
    "version": 3
   },
   "file_extension": ".py",
   "mimetype": "text/x-python",
   "name": "python",
   "nbconvert_exporter": "python",
   "pygments_lexer": "ipython3",
   "version": "3.6.6"
  }
 },
 "nbformat": 4,
 "nbformat_minor": 2
}
