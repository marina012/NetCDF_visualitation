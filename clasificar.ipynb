{
 "cells": [
  {
   "cell_type": "code",
   "execution_count": 1,
   "metadata": {},
   "outputs": [],
   "source": [
    "from netCDF4 import Dataset\n",
    "\n",
    "dataset= Dataset('/home/jovyan/trim-test_1.nc', 'r', format='NETCDF4_CLASSIC')"
   ]
  },
  {
   "cell_type": "code",
   "execution_count": 2,
   "metadata": {},
   "outputs": [
    {
     "data": {
      "text/plain": [
       "14"
      ]
     },
     "execution_count": 2,
     "metadata": {},
     "output_type": "execute_result"
    }
   ],
   "source": [
    "len(dataset.dimensions.keys())"
   ]
  },
  {
   "cell_type": "code",
   "execution_count": 3,
   "metadata": {},
   "outputs": [
    {
     "name": "stdout",
     "output_type": "stream",
     "text": [
      "NC 95 False\n",
      "MC 122 False\n",
      "N 95 False\n",
      "M 122 False\n",
      "strlen20 20 False\n",
      "LSTSCI 2 False\n",
      "LTUR 2 False\n",
      "K_LYR 35 False\n",
      "K_INTF 36 False\n",
      "KMAXOUT 36 False\n",
      "KMAXOUT_RESTR 35 False\n",
      "time 5 True\n",
      "length_7 7 False\n",
      "NSRC 5 False\n"
     ]
    }
   ],
   "source": [
    "for dimname in dataset.dimensions.keys():     \n",
    "    dim = dataset.dimensions[dimname]    \n",
    "    print (dimname, len(dim), dim.isunlimited())"
   ]
  },
  {
   "cell_type": "code",
   "execution_count": 4,
   "metadata": {},
   "outputs": [
    {
     "name": "stdout",
     "output_type": "stream",
     "text": [
      "XCOR\n",
      "YCOR\n",
      "XZ\n",
      "YZ\n",
      "ALFAS\n",
      "KCU\n",
      "KCV\n",
      "KCS\n",
      "DP0\n",
      "DPS0\n",
      "DPU0\n",
      "DPV0\n",
      "NAMCON\n",
      "NAMTUR\n",
      "ZK_LYR\n",
      "ZK\n",
      "GSQS\n",
      "PPARTITION\n",
      "KMAXOUT\n",
      "KMAXOUT_RESTR\n",
      "RHOCONST\n",
      "GRAVITY\n",
      "grid\n",
      "time\n",
      "S1\n",
      "KFU\n",
      "KFV\n",
      "U1\n",
      "V1\n",
      "W\n",
      "WPHY\n",
      "R1\n",
      "RTUR1\n",
      "TAUKSI\n",
      "TAUETA\n",
      "TAUMAX\n",
      "VICWW\n",
      "DICWW\n",
      "RICH\n",
      "RHO\n",
      "UMNLDF\n",
      "VMNLDF\n",
      "VICUV\n",
      "MNKSRC\n",
      "HYDPRES\n"
     ]
    }
   ],
   "source": [
    "for v in dataset.variables.keys(): \n",
    "    print(v)"
   ]
  },
  {
   "cell_type": "code",
   "execution_count": 52,
   "metadata": {},
   "outputs": [
    {
     "data": {
      "text/plain": [
       "<class 'netCDF4._netCDF4.Variable'>\n",
       "float32 R1(time, LSTSCI, KMAXOUT_RESTR, M, N)\n",
       "    long_name: Concentrations per layer in zeta point\n",
       "    units: 1\n",
       "    coordinates: XZ YZ\n",
       "    grid: grid\n",
       "    location: face\n",
       "unlimited dimensions: time\n",
       "current shape = (5, 2, 35, 122, 95)\n",
       "filling on, default _FillValue of 9.969209968386869e+36 used"
      ]
     },
     "execution_count": 52,
     "metadata": {},
     "output_type": "execute_result"
    }
   ],
   "source": [
    "dataset.variables['R1']"
   ]
  },
  {
   "cell_type": "code",
   "execution_count": null,
   "metadata": {},
   "outputs": [],
   "source": []
  },
  {
   "cell_type": "code",
   "execution_count": 48,
   "metadata": {},
   "outputs": [
    {
     "ename": "KeyError",
     "evalue": "'ZK_LYR'",
     "output_type": "error",
     "traceback": [
      "\u001b[0;31m---------------------------------------------------------------------------\u001b[0m",
      "\u001b[0;31mKeyError\u001b[0m                                  Traceback (most recent call last)",
      "\u001b[0;32m<ipython-input-48-352b50093f46>\u001b[0m in \u001b[0;36m<module>\u001b[0;34m\u001b[0m\n\u001b[0;32m----> 1\u001b[0;31m \u001b[0mprint\u001b[0m\u001b[0;34m(\u001b[0m\u001b[0mdataset\u001b[0m\u001b[0;34m.\u001b[0m\u001b[0mdimensions\u001b[0m\u001b[0;34m[\u001b[0m\u001b[0;34m'ZK_LYR'\u001b[0m\u001b[0;34m]\u001b[0m\u001b[0;34m)\u001b[0m\u001b[0;34m\u001b[0m\u001b[0m\n\u001b[0m",
      "\u001b[0;31mKeyError\u001b[0m: 'ZK_LYR'"
     ]
    }
   ],
   "source": [
    "print(dataset.dimensions['ZK_LYR'])"
   ]
  },
  {
   "cell_type": "code",
   "execution_count": null,
   "metadata": {},
   "outputs": [],
   "source": [
    "len(dataset.variables)"
   ]
  },
  {
   "cell_type": "code",
   "execution_count": null,
   "metadata": {},
   "outputs": [],
   "source": [
    "import ipywidgets as widgets\n",
    "from IPython.display import display,clear_output\n",
    "import matplotlib.pyplot as plt\n",
    "from ipywidgets import Layout, VBox, HBox\n",
    "import numpy as np"
   ]
  },
  {
   "cell_type": "code",
   "execution_count": null,
   "metadata": {},
   "outputs": [],
   "source": [
    "lista=[[],[],[]]\n",
    "for n in dataset.variables.keys():\n",
    "    dimensiones=''\n",
    "    for i in dataset.variables[n].dimensions:\n",
    "        dimensiones= dimensiones+\" \"+i\n",
    "    lista[0]= np.append(lista[0],n)\n",
    "    lista[1]= np.append(lista[1],len(dataset.variables[n].dimensions))\n",
    "    lista[2]= np.append(lista[2],dimensiones)\n",
    "    "
   ]
  },
  {
   "cell_type": "code",
   "execution_count": null,
   "metadata": {},
   "outputs": [],
   "source": [
    "\n",
    "for n in dataset.dimensions.keys():\n",
    "    if n in dataset.variables.keys():\n",
    "        print(dataset.variables[n])"
   ]
  },
  {
   "cell_type": "code",
   "execution_count": null,
   "metadata": {},
   "outputs": [],
   "source": [
    "for i in range(len(lista[0])):\n",
    "    print(lista[0][i],lista[1][i],lista[2][i])\n",
    "    "
   ]
  },
  {
   "cell_type": "code",
   "execution_count": null,
   "metadata": {},
   "outputs": [],
   "source": [
    "dependencias=[]\n",
    "for n in lista[2]:\n",
    "    if n not in dependencias:\n",
    "        dependencias= np.append(dependencias,n)\n",
    "    "
   ]
  },
  {
   "cell_type": "code",
   "execution_count": null,
   "metadata": {},
   "outputs": [],
   "source": [
    "for n in range(len(dependencias)):\n",
    "    print(dependencias[n])"
   ]
  },
  {
   "cell_type": "code",
   "execution_count": null,
   "metadata": {},
   "outputs": [],
   "source": [
    "print(dataset.variables['YCOR'])"
   ]
  },
  {
   "cell_type": "code",
   "execution_count": null,
   "metadata": {},
   "outputs": [],
   "source": []
  }
 ],
 "metadata": {
  "kernelspec": {
   "display_name": "Python 3",
   "language": "python",
   "name": "python3"
  },
  "language_info": {
   "codemirror_mode": {
    "name": "ipython",
    "version": 3
   },
   "file_extension": ".py",
   "mimetype": "text/x-python",
   "name": "python",
   "nbconvert_exporter": "python",
   "pygments_lexer": "ipython3",
   "version": "3.6.6"
  }
 },
 "nbformat": 4,
 "nbformat_minor": 2
}
