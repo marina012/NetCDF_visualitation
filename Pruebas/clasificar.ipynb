{
 "cells": [
  {
   "cell_type": "code",
   "execution_count": 1,
   "metadata": {},
   "outputs": [],
   "source": [
    "from netCDF4 import Dataset\n",
    "\n",
    "dataset= Dataset('/home/jovyan/trim-test_1.nc', 'r', format='NETCDF4_CLASSIC')"
   ]
  },
  {
   "cell_type": "code",
   "execution_count": 2,
   "metadata": {},
   "outputs": [
    {
     "data": {
      "text/plain": [
       "14"
      ]
     },
     "execution_count": 2,
     "metadata": {},
     "output_type": "execute_result"
    }
   ],
   "source": [
    "len(dataset.dimensions.keys())"
   ]
  },
  {
   "cell_type": "code",
   "execution_count": 3,
   "metadata": {},
   "outputs": [
    {
     "name": "stdout",
     "output_type": "stream",
     "text": [
      "NC 95 False\n",
      "MC 122 False\n",
      "N 95 False\n",
      "M 122 False\n",
      "strlen20 20 False\n",
      "LSTSCI 2 False\n",
      "LTUR 2 False\n",
      "K_LYR 35 False\n",
      "K_INTF 36 False\n",
      "KMAXOUT 36 False\n",
      "KMAXOUT_RESTR 35 False\n",
      "time 5 True\n",
      "length_7 7 False\n",
      "NSRC 5 False\n"
     ]
    }
   ],
   "source": [
    "for dimname in dataset.dimensions.keys():     \n",
    "    dim = dataset.dimensions[dimname]    \n",
    "    print (dimname, len(dim), dim.isunlimited())"
   ]
  },
  {
   "cell_type": "code",
   "execution_count": 4,
   "metadata": {},
   "outputs": [
    {
     "name": "stdout",
     "output_type": "stream",
     "text": [
      "XCOR\n",
      "YCOR\n",
      "XZ\n",
      "YZ\n",
      "ALFAS\n",
      "KCU\n",
      "KCV\n",
      "KCS\n",
      "DP0\n",
      "DPS0\n",
      "DPU0\n",
      "DPV0\n",
      "NAMCON\n",
      "NAMTUR\n",
      "ZK_LYR\n",
      "ZK\n",
      "GSQS\n",
      "PPARTITION\n",
      "KMAXOUT\n",
      "KMAXOUT_RESTR\n",
      "RHOCONST\n",
      "GRAVITY\n",
      "grid\n",
      "time\n",
      "S1\n",
      "KFU\n",
      "KFV\n",
      "U1\n",
      "V1\n",
      "W\n",
      "WPHY\n",
      "R1\n",
      "RTUR1\n",
      "TAUKSI\n",
      "TAUETA\n",
      "TAUMAX\n",
      "VICWW\n",
      "DICWW\n",
      "RICH\n",
      "RHO\n",
      "UMNLDF\n",
      "VMNLDF\n",
      "VICUV\n",
      "MNKSRC\n",
      "HYDPRES\n"
     ]
    }
   ],
   "source": [
    "for v in dataset.variables.keys(): \n",
    "    print(v)"
   ]
  },
  {
   "cell_type": "code",
   "execution_count": 5,
   "metadata": {},
   "outputs": [
    {
     "data": {
      "text/plain": [
       "<class 'netCDF4._netCDF4.Variable'>\n",
       "float32 U1(time, KMAXOUT_RESTR, MC, N)\n",
       "    long_name: U-velocity per layer in U-point (Eulerian)\n",
       "    units: m/s\n",
       "    grid: grid\n",
       "    location: edge1\n",
       "unlimited dimensions: time\n",
       "current shape = (5, 35, 122, 95)\n",
       "filling on, default _FillValue of 9.969209968386869e+36 used"
      ]
     },
     "execution_count": 5,
     "metadata": {},
     "output_type": "execute_result"
    }
   ],
   "source": [
    "dataset.variables['U1']"
   ]
  },
  {
   "cell_type": "code",
   "execution_count": 6,
   "metadata": {},
   "outputs": [],
   "source": [
    "H=dataset.variables['R1'][:,0,:,:]-dataset.variables['R1'][:,0,:,:]"
   ]
  },
  {
   "cell_type": "code",
   "execution_count": 14,
   "metadata": {},
   "outputs": [
    {
     "name": "stdout",
     "output_type": "stream",
     "text": [
      "[[[[0. 0. 0. ... 0. 0. 0.]\n",
      "   [0. 0. 0. ... 0. 0. 0.]\n",
      "   [0. 0. 0. ... 0. 0. 0.]\n",
      "   ...\n",
      "   [0. 0. 0. ... 0. 0. 0.]\n",
      "   [0. 0. 0. ... 0. 0. 0.]\n",
      "   [0. 0. 0. ... 0. 0. 0.]]\n",
      "\n",
      "  [[0. 0. 0. ... 0. 0. 0.]\n",
      "   [0. 0. 0. ... 0. 0. 0.]\n",
      "   [0. 0. 0. ... 0. 0. 0.]\n",
      "   ...\n",
      "   [0. 0. 0. ... 0. 0. 0.]\n",
      "   [0. 0. 0. ... 0. 0. 0.]\n",
      "   [0. 0. 0. ... 0. 0. 0.]]\n",
      "\n",
      "  [[0. 0. 0. ... 0. 0. 0.]\n",
      "   [0. 0. 0. ... 0. 0. 0.]\n",
      "   [0. 0. 0. ... 0. 0. 0.]\n",
      "   ...\n",
      "   [0. 0. 0. ... 0. 0. 0.]\n",
      "   [0. 0. 0. ... 0. 0. 0.]\n",
      "   [0. 0. 0. ... 0. 0. 0.]]\n",
      "\n",
      "  ...\n",
      "\n",
      "  [[0. 0. 0. ... 0. 0. 0.]\n",
      "   [0. 0. 0. ... 0. 0. 0.]\n",
      "   [0. 0. 0. ... 0. 0. 0.]\n",
      "   ...\n",
      "   [0. 0. 0. ... 0. 0. 0.]\n",
      "   [0. 0. 0. ... 0. 0. 0.]\n",
      "   [0. 0. 0. ... 0. 0. 0.]]\n",
      "\n",
      "  [[0. 0. 0. ... 0. 0. 0.]\n",
      "   [0. 0. 0. ... 0. 0. 0.]\n",
      "   [0. 0. 0. ... 0. 0. 0.]\n",
      "   ...\n",
      "   [0. 0. 0. ... 0. 0. 0.]\n",
      "   [0. 0. 0. ... 0. 0. 0.]\n",
      "   [0. 0. 0. ... 0. 0. 0.]]\n",
      "\n",
      "  [[0. 0. 0. ... 0. 0. 0.]\n",
      "   [0. 0. 0. ... 0. 0. 0.]\n",
      "   [0. 0. 0. ... 0. 0. 0.]\n",
      "   ...\n",
      "   [0. 0. 0. ... 0. 0. 0.]\n",
      "   [0. 0. 0. ... 0. 0. 0.]\n",
      "   [0. 0. 0. ... 0. 0. 0.]]]\n",
      "\n",
      "\n",
      " [[[0. 0. 0. ... 0. 0. 0.]\n",
      "   [0. 0. 0. ... 0. 0. 0.]\n",
      "   [0. 0. 0. ... 0. 0. 0.]\n",
      "   ...\n",
      "   [0. 0. 0. ... 0. 0. 0.]\n",
      "   [0. 0. 0. ... 0. 0. 0.]\n",
      "   [0. 0. 0. ... 0. 0. 0.]]\n",
      "\n",
      "  [[0. 0. 0. ... 0. 0. 0.]\n",
      "   [0. 0. 0. ... 0. 0. 0.]\n",
      "   [0. 0. 0. ... 0. 0. 0.]\n",
      "   ...\n",
      "   [0. 0. 0. ... 0. 0. 0.]\n",
      "   [0. 0. 0. ... 0. 0. 0.]\n",
      "   [0. 0. 0. ... 0. 0. 0.]]\n",
      "\n",
      "  [[0. 0. 0. ... 0. 0. 0.]\n",
      "   [0. 0. 0. ... 0. 0. 0.]\n",
      "   [0. 0. 0. ... 0. 0. 0.]\n",
      "   ...\n",
      "   [0. 0. 0. ... 0. 0. 0.]\n",
      "   [0. 0. 0. ... 0. 0. 0.]\n",
      "   [0. 0. 0. ... 0. 0. 0.]]\n",
      "\n",
      "  ...\n",
      "\n",
      "  [[0. 0. 0. ... 0. 0. 0.]\n",
      "   [0. 0. 0. ... 0. 0. 0.]\n",
      "   [0. 0. 0. ... 0. 0. 0.]\n",
      "   ...\n",
      "   [0. 0. 0. ... 0. 0. 0.]\n",
      "   [0. 0. 0. ... 0. 0. 0.]\n",
      "   [0. 0. 0. ... 0. 0. 0.]]\n",
      "\n",
      "  [[0. 0. 0. ... 0. 0. 0.]\n",
      "   [0. 0. 0. ... 0. 0. 0.]\n",
      "   [0. 0. 0. ... 0. 0. 0.]\n",
      "   ...\n",
      "   [0. 0. 0. ... 0. 0. 0.]\n",
      "   [0. 0. 0. ... 0. 0. 0.]\n",
      "   [0. 0. 0. ... 0. 0. 0.]]\n",
      "\n",
      "  [[0. 0. 0. ... 0. 0. 0.]\n",
      "   [0. 0. 0. ... 0. 0. 0.]\n",
      "   [0. 0. 0. ... 0. 0. 0.]\n",
      "   ...\n",
      "   [0. 0. 0. ... 0. 0. 0.]\n",
      "   [0. 0. 0. ... 0. 0. 0.]\n",
      "   [0. 0. 0. ... 0. 0. 0.]]]\n",
      "\n",
      "\n",
      " [[[0. 0. 0. ... 0. 0. 0.]\n",
      "   [0. 0. 0. ... 0. 0. 0.]\n",
      "   [0. 0. 0. ... 0. 0. 0.]\n",
      "   ...\n",
      "   [0. 0. 0. ... 0. 0. 0.]\n",
      "   [0. 0. 0. ... 0. 0. 0.]\n",
      "   [0. 0. 0. ... 0. 0. 0.]]\n",
      "\n",
      "  [[0. 0. 0. ... 0. 0. 0.]\n",
      "   [0. 0. 0. ... 0. 0. 0.]\n",
      "   [0. 0. 0. ... 0. 0. 0.]\n",
      "   ...\n",
      "   [0. 0. 0. ... 0. 0. 0.]\n",
      "   [0. 0. 0. ... 0. 0. 0.]\n",
      "   [0. 0. 0. ... 0. 0. 0.]]\n",
      "\n",
      "  [[0. 0. 0. ... 0. 0. 0.]\n",
      "   [0. 0. 0. ... 0. 0. 0.]\n",
      "   [0. 0. 0. ... 0. 0. 0.]\n",
      "   ...\n",
      "   [0. 0. 0. ... 0. 0. 0.]\n",
      "   [0. 0. 0. ... 0. 0. 0.]\n",
      "   [0. 0. 0. ... 0. 0. 0.]]\n",
      "\n",
      "  ...\n",
      "\n",
      "  [[0. 0. 0. ... 0. 0. 0.]\n",
      "   [0. 0. 0. ... 0. 0. 0.]\n",
      "   [0. 0. 0. ... 0. 0. 0.]\n",
      "   ...\n",
      "   [0. 0. 0. ... 0. 0. 0.]\n",
      "   [0. 0. 0. ... 0. 0. 0.]\n",
      "   [0. 0. 0. ... 0. 0. 0.]]\n",
      "\n",
      "  [[0. 0. 0. ... 0. 0. 0.]\n",
      "   [0. 0. 0. ... 0. 0. 0.]\n",
      "   [0. 0. 0. ... 0. 0. 0.]\n",
      "   ...\n",
      "   [0. 0. 0. ... 0. 0. 0.]\n",
      "   [0. 0. 0. ... 0. 0. 0.]\n",
      "   [0. 0. 0. ... 0. 0. 0.]]\n",
      "\n",
      "  [[0. 0. 0. ... 0. 0. 0.]\n",
      "   [0. 0. 0. ... 0. 0. 0.]\n",
      "   [0. 0. 0. ... 0. 0. 0.]\n",
      "   ...\n",
      "   [0. 0. 0. ... 0. 0. 0.]\n",
      "   [0. 0. 0. ... 0. 0. 0.]\n",
      "   [0. 0. 0. ... 0. 0. 0.]]]\n",
      "\n",
      "\n",
      " [[[0. 0. 0. ... 0. 0. 0.]\n",
      "   [0. 0. 0. ... 0. 0. 0.]\n",
      "   [0. 0. 0. ... 0. 0. 0.]\n",
      "   ...\n",
      "   [0. 0. 0. ... 0. 0. 0.]\n",
      "   [0. 0. 0. ... 0. 0. 0.]\n",
      "   [0. 0. 0. ... 0. 0. 0.]]\n",
      "\n",
      "  [[0. 0. 0. ... 0. 0. 0.]\n",
      "   [0. 0. 0. ... 0. 0. 0.]\n",
      "   [0. 0. 0. ... 0. 0. 0.]\n",
      "   ...\n",
      "   [0. 0. 0. ... 0. 0. 0.]\n",
      "   [0. 0. 0. ... 0. 0. 0.]\n",
      "   [0. 0. 0. ... 0. 0. 0.]]\n",
      "\n",
      "  [[0. 0. 0. ... 0. 0. 0.]\n",
      "   [0. 0. 0. ... 0. 0. 0.]\n",
      "   [0. 0. 0. ... 0. 0. 0.]\n",
      "   ...\n",
      "   [0. 0. 0. ... 0. 0. 0.]\n",
      "   [0. 0. 0. ... 0. 0. 0.]\n",
      "   [0. 0. 0. ... 0. 0. 0.]]\n",
      "\n",
      "  ...\n",
      "\n",
      "  [[0. 0. 0. ... 0. 0. 0.]\n",
      "   [0. 0. 0. ... 0. 0. 0.]\n",
      "   [0. 0. 0. ... 0. 0. 0.]\n",
      "   ...\n",
      "   [0. 0. 0. ... 0. 0. 0.]\n",
      "   [0. 0. 0. ... 0. 0. 0.]\n",
      "   [0. 0. 0. ... 0. 0. 0.]]\n",
      "\n",
      "  [[0. 0. 0. ... 0. 0. 0.]\n",
      "   [0. 0. 0. ... 0. 0. 0.]\n",
      "   [0. 0. 0. ... 0. 0. 0.]\n",
      "   ...\n",
      "   [0. 0. 0. ... 0. 0. 0.]\n",
      "   [0. 0. 0. ... 0. 0. 0.]\n",
      "   [0. 0. 0. ... 0. 0. 0.]]\n",
      "\n",
      "  [[0. 0. 0. ... 0. 0. 0.]\n",
      "   [0. 0. 0. ... 0. 0. 0.]\n",
      "   [0. 0. 0. ... 0. 0. 0.]\n",
      "   ...\n",
      "   [0. 0. 0. ... 0. 0. 0.]\n",
      "   [0. 0. 0. ... 0. 0. 0.]\n",
      "   [0. 0. 0. ... 0. 0. 0.]]]\n",
      "\n",
      "\n",
      " [[[0. 0. 0. ... 0. 0. 0.]\n",
      "   [0. 0. 0. ... 0. 0. 0.]\n",
      "   [0. 0. 0. ... 0. 0. 0.]\n",
      "   ...\n",
      "   [0. 0. 0. ... 0. 0. 0.]\n",
      "   [0. 0. 0. ... 0. 0. 0.]\n",
      "   [0. 0. 0. ... 0. 0. 0.]]\n",
      "\n",
      "  [[0. 0. 0. ... 0. 0. 0.]\n",
      "   [0. 0. 0. ... 0. 0. 0.]\n",
      "   [0. 0. 0. ... 0. 0. 0.]\n",
      "   ...\n",
      "   [0. 0. 0. ... 0. 0. 0.]\n",
      "   [0. 0. 0. ... 0. 0. 0.]\n",
      "   [0. 0. 0. ... 0. 0. 0.]]\n",
      "\n",
      "  [[0. 0. 0. ... 0. 0. 0.]\n",
      "   [0. 0. 0. ... 0. 0. 0.]\n",
      "   [0. 0. 0. ... 0. 0. 0.]\n",
      "   ...\n",
      "   [0. 0. 0. ... 0. 0. 0.]\n",
      "   [0. 0. 0. ... 0. 0. 0.]\n",
      "   [0. 0. 0. ... 0. 0. 0.]]\n",
      "\n",
      "  ...\n",
      "\n",
      "  [[0. 0. 0. ... 0. 0. 0.]\n",
      "   [0. 0. 0. ... 0. 0. 0.]\n",
      "   [0. 0. 0. ... 0. 0. 0.]\n",
      "   ...\n",
      "   [0. 0. 0. ... 0. 0. 0.]\n",
      "   [0. 0. 0. ... 0. 0. 0.]\n",
      "   [0. 0. 0. ... 0. 0. 0.]]\n",
      "\n",
      "  [[0. 0. 0. ... 0. 0. 0.]\n",
      "   [0. 0. 0. ... 0. 0. 0.]\n",
      "   [0. 0. 0. ... 0. 0. 0.]\n",
      "   ...\n",
      "   [0. 0. 0. ... 0. 0. 0.]\n",
      "   [0. 0. 0. ... 0. 0. 0.]\n",
      "   [0. 0. 0. ... 0. 0. 0.]]\n",
      "\n",
      "  [[0. 0. 0. ... 0. 0. 0.]\n",
      "   [0. 0. 0. ... 0. 0. 0.]\n",
      "   [0. 0. 0. ... 0. 0. 0.]\n",
      "   ...\n",
      "   [0. 0. 0. ... 0. 0. 0.]\n",
      "   [0. 0. 0. ... 0. 0. 0.]\n",
      "   [0. 0. 0. ... 0. 0. 0.]]]]\n"
     ]
    }
   ],
   "source": [
    "print(H)"
   ]
  },
  {
   "cell_type": "code",
   "execution_count": 8,
   "metadata": {},
   "outputs": [],
   "source": [
    "import ipywidgets as widgets\n",
    "from IPython.display import display,clear_output\n",
    "import matplotlib.pyplot as plt\n",
    "from ipywidgets import Layout, VBox, HBox\n",
    "import numpy as np"
   ]
  },
  {
   "cell_type": "code",
   "execution_count": 39,
   "metadata": {},
   "outputs": [],
   "source": [
    "x=[dataset.variables['time'][i] for i in range(len(dataset.variables['time'])-1)]\n",
    "y=[dataset.variables['S1'][i,30,50] for i in range(len(dataset.variables['time'])-1)]"
   ]
  },
  {
   "cell_type": "code",
   "execution_count": 40,
   "metadata": {},
   "outputs": [
    {
     "data": {
      "image/png": "[encoded data removed]",
      "text/plain": [
       "<Figure size 432x288 with 1 Axes>"
      ]
     },
     "metadata": {
      "needs_background": "light"
     },
     "output_type": "display_data"
    }
   ],
   "source": [
    "axs = plt.subplot()\n",
    "\n",
    "axs.plot(x,y)\n",
    "axs.set_title('Water Level')\n",
    "axs.set_xlabel('time')\n",
    "axs.set_ylabel('m')\n",
    "\n",
    "plt.show()\n",
    "#plot.set_titile('titulo')"
   ]
  },
  {
   "cell_type": "code",
   "execution_count": 70,
   "metadata": {},
   "outputs": [
    {
     "data": {
      "image/png": "[encoded data removed]",
      "text/plain": [
       "<Figure size 432x288 with 1 Axes>"
      ]
     },
     "metadata": {
      "needs_background": "light"
     },
     "output_type": "display_data"
    }
   ],
   "source": [
    "im2=plt.imshow(dataset.variables['XCOR'][:,:],\\\n",
    "             cmap= plt.get_cmap('jet'), aspect='equal', origin='lower')\n",
    "\n"
   ]
  },
  {
   "cell_type": "code",
   "execution_count": 71,
   "metadata": {},
   "outputs": [],
   "source": [
    "aux=dataset.variables['XCOR'][:,:]"
   ]
  },
  {
   "cell_type": "code",
   "execution_count": 72,
   "metadata": {},
   "outputs": [
    {
     "data": {
      "text/plain": [
       "<matplotlib.image.AxesImage at 0x7f9290a0eb00>"
      ]
     },
     "execution_count": 72,
     "metadata": {},
     "output_type": "execute_result"
    },
    {
     "data": {
      "image/png": "[encoded data removed]",
      "text/plain": [
       "<Figure size 432x288 with 1 Axes>"
      ]
     },
     "metadata": {
      "needs_background": "light"
     },
     "output_type": "display_data"
    }
   ],
   "source": [
    "plt.imshow(aux[:,:],\\\n",
    "        cmap= plt.get_cmap('jet'), aspect='equal', origin='lower')"
   ]
  },
  {
   "cell_type": "code",
   "execution_count": 46,
   "metadata": {},
   "outputs": [
    {
     "name": "stdout",
     "output_type": "stream",
     "text": [
      "-999.0\n",
      "-999.0\n"
     ]
    }
   ],
   "source": [
    "print(dataset.variables['RHO'][3,25,0,0])\n",
    "print(dataset.variables['RHO'][3,25,30,75])"
   ]
  },
  {
   "cell_type": "code",
   "execution_count": 35,
   "metadata": {},
   "outputs": [
    {
     "name": "stdout",
     "output_type": "stream",
     "text": [
      "['-999.0']\n"
     ]
    }
   ],
   "source": [
    "valores=[]\n",
    "for n in dataset.variables['WPHY'][3,1,0,:]:\n",
    "    if str(n) not in valores:\n",
    "        valores= np.append(valores,str(n))\n",
    "        \n",
    "print(valores)"
   ]
  },
  {
   "cell_type": "code",
   "execution_count": 13,
   "metadata": {},
   "outputs": [
    {
     "ename": "KeyError",
     "evalue": "'RICH'",
     "output_type": "error",
     "traceback": [
      "\u001b[0;31m---------------------------------------------------------------------------\u001b[0m",
      "\u001b[0;31mKeyError\u001b[0m                                  Traceback (most recent call last)",
      "\u001b[0;32m<ipython-input-13-b327bdb756f1>\u001b[0m in \u001b[0;36m<module>\u001b[0;34m\u001b[0m\n\u001b[0;32m----> 1\u001b[0;31m \u001b[0mprint\u001b[0m\u001b[0;34m(\u001b[0m\u001b[0mdataset\u001b[0m\u001b[0;34m.\u001b[0m\u001b[0mdimensions\u001b[0m\u001b[0;34m[\u001b[0m\u001b[0;34m'RICH'\u001b[0m\u001b[0;34m]\u001b[0m\u001b[0;34m)\u001b[0m\u001b[0;34m\u001b[0m\u001b[0m\n\u001b[0m",
      "\u001b[0;31mKeyError\u001b[0m: 'RICH'"
     ]
    }
   ],
   "source": [
    "#print(dataset.dimensions['RICH'])"
   ]
  },
  {
   "cell_type": "code",
   "execution_count": 16,
   "metadata": {},
   "outputs": [
    {
     "data": {
      "text/plain": [
       "45"
      ]
     },
     "execution_count": 16,
     "metadata": {},
     "output_type": "execute_result"
    }
   ],
   "source": [
    "len(dataset.variables)"
   ]
  },
  {
   "cell_type": "code",
   "execution_count": 17,
   "metadata": {},
   "outputs": [],
   "source": [
    "lista=[[],[],[]]\n",
    "for n in dataset.variables.keys():\n",
    "    dimensiones=''\n",
    "    for i in dataset.variables[n].dimensions:\n",
    "        dimensiones= dimensiones+\" \"+i\n",
    "    lista[0]= np.append(lista[0],n)\n",
    "    lista[1]= np.append(lista[1],len(dataset.variables[n].dimensions))\n",
    "    lista[2]= np.append(lista[2],dimensiones)\n",
    "    "
   ]
  },
  {
   "cell_type": "code",
   "execution_count": 18,
   "metadata": {},
   "outputs": [
    {
     "name": "stdout",
     "output_type": "stream",
     "text": [
      "XCOR 2.0  MC NC\n",
      "YCOR 2.0  MC NC\n",
      "XZ 2.0  M N\n",
      "YZ 2.0  M N\n",
      "ALFAS 2.0  M N\n",
      "KCU 2.0  MC N\n",
      "KCV 2.0  M NC\n",
      "KCS 2.0  M N\n",
      "DP0 2.0  M N\n",
      "DPS0 2.0  M N\n",
      "DPU0 2.0  MC N\n",
      "DPV0 2.0  M NC\n",
      "NAMCON 2.0  LSTSCI strlen20\n",
      "NAMTUR 2.0  LTUR strlen20\n",
      "ZK_LYR 1.0  K_LYR\n",
      "ZK 1.0  K_INTF\n",
      "GSQS 2.0  M N\n",
      "PPARTITION 2.0  M N\n",
      "KMAXOUT 1.0  KMAXOUT\n",
      "KMAXOUT_RESTR 1.0  KMAXOUT_RESTR\n",
      "RHOCONST 0.0 \n",
      "GRAVITY 0.0 \n",
      "grid 0.0 \n",
      "time 1.0  time\n",
      "S1 3.0  time M N\n",
      "KFU 3.0  time MC N\n",
      "KFV 3.0  time M NC\n",
      "U1 4.0  time KMAXOUT_RESTR MC N\n",
      "V1 4.0  time KMAXOUT_RESTR M NC\n",
      "W 4.0  time KMAXOUT M N\n",
      "WPHY 4.0  time KMAXOUT_RESTR M N\n",
      "R1 5.0  time LSTSCI KMAXOUT_RESTR M N\n",
      "RTUR1 5.0  time LTUR KMAXOUT M N\n",
      "TAUKSI 3.0  time MC N\n",
      "TAUETA 3.0  time M NC\n",
      "TAUMAX 3.0  time M N\n",
      "VICWW 4.0  time KMAXOUT M N\n",
      "DICWW 4.0  time KMAXOUT M N\n",
      "RICH 4.0  time KMAXOUT M N\n",
      "RHO 4.0  time KMAXOUT_RESTR M N\n",
      "UMNLDF 3.0  time MC N\n",
      "VMNLDF 3.0  time M NC\n",
      "VICUV 4.0  time KMAXOUT_RESTR M N\n",
      "MNKSRC 3.0  time NSRC length_7\n",
      "HYDPRES 4.0  time KMAXOUT_RESTR M N\n"
     ]
    }
   ],
   "source": [
    "for i in range(len(lista[0])):\n",
    "    print(lista[0][i],lista[1][i],lista[2][i])\n",
    "    "
   ]
  },
  {
   "cell_type": "code",
   "execution_count": 19,
   "metadata": {},
   "outputs": [
    {
     "name": "stdout",
     "output_type": "stream",
     "text": [
      "<class 'netCDF4._netCDF4.Variable'>\n",
      "int32 KMAXOUT(KMAXOUT)\n",
      "    long_name: User selected output layer interfaces\n",
      "    units: 1\n",
      "    compress: ZK\n",
      "unlimited dimensions: \n",
      "current shape = (36,)\n",
      "filling on, default _FillValue of -2147483647 used\n",
      "\n",
      "<class 'netCDF4._netCDF4.Variable'>\n",
      "int32 KMAXOUT_RESTR(KMAXOUT_RESTR)\n",
      "    long_name: User selected output layer centres\n",
      "    units: 1\n",
      "    compress: ZK_LYR\n",
      "unlimited dimensions: \n",
      "current shape = (35,)\n",
      "filling on, default _FillValue of -2147483647 used\n",
      "\n",
      "<class 'netCDF4._netCDF4.Variable'>\n",
      "float64 time(time)\n",
      "    standard_name: time\n",
      "    long_name: time\n",
      "    units: seconds since 2018-08-04 00:00:00\n",
      "    calendar: proleptic_gregorian\n",
      "unlimited dimensions: time\n",
      "current shape = (5,)\n",
      "filling on, default _FillValue of 9.969209968386869e+36 used\n",
      "\n"
     ]
    }
   ],
   "source": [
    "\n",
    "for n in dataset.dimensions.keys():\n",
    "    if n in dataset.variables.keys():\n",
    "        print(dataset.variables[n])"
   ]
  },
  {
   "cell_type": "code",
   "execution_count": 20,
   "metadata": {},
   "outputs": [
    {
     "name": "stdout",
     "output_type": "stream",
     "text": [
      "XCOR 2.0  MC NC\n",
      "YCOR 2.0  MC NC\n",
      "XZ 2.0  M N\n",
      "YZ 2.0  M N\n",
      "ALFAS 2.0  M N\n",
      "KCU 2.0  MC N\n",
      "KCV 2.0  M NC\n",
      "KCS 2.0  M N\n",
      "DP0 2.0  M N\n",
      "DPS0 2.0  M N\n",
      "DPU0 2.0  MC N\n",
      "DPV0 2.0  M NC\n",
      "NAMCON 2.0  LSTSCI strlen20\n",
      "NAMTUR 2.0  LTUR strlen20\n",
      "ZK_LYR 1.0  K_LYR\n",
      "ZK 1.0  K_INTF\n",
      "GSQS 2.0  M N\n",
      "PPARTITION 2.0  M N\n",
      "KMAXOUT 1.0  KMAXOUT\n",
      "KMAXOUT_RESTR 1.0  KMAXOUT_RESTR\n",
      "RHOCONST 0.0 \n",
      "GRAVITY 0.0 \n",
      "grid 0.0 \n",
      "time 1.0  time\n",
      "S1 3.0  time M N\n",
      "KFU 3.0  time MC N\n",
      "KFV 3.0  time M NC\n",
      "U1 4.0  time KMAXOUT_RESTR MC N\n",
      "V1 4.0  time KMAXOUT_RESTR M NC\n",
      "W 4.0  time KMAXOUT M N\n",
      "WPHY 4.0  time KMAXOUT_RESTR M N\n",
      "R1 5.0  time LSTSCI KMAXOUT_RESTR M N\n",
      "RTUR1 5.0  time LTUR KMAXOUT M N\n",
      "TAUKSI 3.0  time MC N\n",
      "TAUETA 3.0  time M NC\n",
      "TAUMAX 3.0  time M N\n",
      "VICWW 4.0  time KMAXOUT M N\n",
      "DICWW 4.0  time KMAXOUT M N\n",
      "RICH 4.0  time KMAXOUT M N\n",
      "RHO 4.0  time KMAXOUT_RESTR M N\n",
      "UMNLDF 3.0  time MC N\n",
      "VMNLDF 3.0  time M NC\n",
      "VICUV 4.0  time KMAXOUT_RESTR M N\n",
      "MNKSRC 3.0  time NSRC length_7\n",
      "HYDPRES 4.0  time KMAXOUT_RESTR M N\n"
     ]
    }
   ],
   "source": [
    "for i in range(len(lista[0])):\n",
    "    print(lista[0][i],lista[1][i],lista[2][i])\n",
    "    "
   ]
  },
  {
   "cell_type": "code",
   "execution_count": 21,
   "metadata": {},
   "outputs": [],
   "source": [
    "dependencias=[]\n",
    "for n in lista[2]:\n",
    "    if n not in dependencias:\n",
    "        dependencias= np.append(dependencias,n)\n",
    "    "
   ]
  },
  {
   "cell_type": "code",
   "execution_count": 22,
   "metadata": {},
   "outputs": [
    {
     "name": "stdout",
     "output_type": "stream",
     "text": [
      " MC NC\n",
      " M N\n",
      " MC N\n",
      " M NC\n",
      " LSTSCI strlen20\n",
      " LTUR strlen20\n",
      " K_LYR\n",
      " K_INTF\n",
      " KMAXOUT\n",
      " KMAXOUT_RESTR\n",
      "\n",
      " time\n",
      " time M N\n",
      " time MC N\n",
      " time M NC\n",
      " time KMAXOUT_RESTR MC N\n",
      " time KMAXOUT_RESTR M NC\n",
      " time KMAXOUT M N\n",
      " time KMAXOUT_RESTR M N\n",
      " time LSTSCI KMAXOUT_RESTR M N\n",
      " time LTUR KMAXOUT M N\n",
      " time NSRC length_7\n"
     ]
    }
   ],
   "source": [
    "for n in range(len(dependencias)):\n",
    "    print(dependencias[n])"
   ]
  },
  {
   "cell_type": "code",
   "execution_count": null,
   "metadata": {},
   "outputs": [],
   "source": [
    "print(dataset.variables['YCOR'])"
   ]
  },
  {
   "cell_type": "code",
   "execution_count": null,
   "metadata": {},
   "outputs": [],
   "source": [
    "def interfaz_3_dim():\n",
    "    #Dibujo un plot en función del tiempo de unas coordenadas dadas\n",
    "    #Tengo que poder escoger las coordenadas x, y"
   ]
  },
  {
   "cell_type": "code",
   "execution_count": 73,
   "metadata": {},
   "outputs": [
    {
     "data": {
      "text/plain": [
       "<matplotlib.image.AxesImage at 0x7f9290b6de80>"
      ]
     },
     "execution_count": 73,
     "metadata": {},
     "output_type": "execute_result"
    },
    {
     "data": {
      "image/png": "[encoded data removed]",
      "text/plain": [
       "<Figure size 432x288 with 1 Axes>"
      ]
     },
     "metadata": {
      "needs_background": "light"
     },
     "output_type": "display_data"
    }
   ],
   "source": [
    "plt.imshow(aux[:,:],\\\n",
    "        cmap= plt.get_cmap('jet'), aspect='equal', origin='lower')"
   ]
  },
  {
   "cell_type": "code",
   "execution_count": null,
   "metadata": {},
   "outputs": [],
   "source": [
    "slider_x = widgets.IntSlider(\n",
    "    value=0,\n",
    "    min=0,\n",
    "    max=30,\n",
    "    readout=True\n",
    "\n",
    ")"
   ]
  }
 ],
 "metadata": {
  "kernelspec": {
   "display_name": "Python 3",
   "language": "python",
   "name": "python3"
  },
  "language_info": {
   "codemirror_mode": {
    "name": "ipython",
    "version": 3
   },
   "file_extension": ".py",
   "mimetype": "text/x-python",
   "name": "python",
   "nbconvert_exporter": "python",
   "pygments_lexer": "ipython3",
   "version": "3.6.6"
  }
 },
 "nbformat": 4,
 "nbformat_minor": 2
}
