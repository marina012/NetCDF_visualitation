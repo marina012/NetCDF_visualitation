{
 "cells": [
  {
   "cell_type": "code",
   "execution_count": 1,
   "metadata": {},
   "outputs": [
    {
     "name": "stdout",
     "output_type": "stream",
     "text": [
      "NETCDF4_CLASSIC\n"
     ]
    }
   ],
   "source": [
    "from netCDF4 import Dataset\n",
    "\n",
    "dataset= Dataset('Documentos/test_unos.nc', 'w', format='NETCDF4_CLASSIC')\n",
    "print(dataset.data_model)"
   ]
  },
  {
   "cell_type": "code",
   "execution_count": 2,
   "metadata": {},
   "outputs": [],
   "source": [
    "lat = dataset.createDimension('lat', 73)\n",
    "lon = dataset.createDimension('lon', 144)\n",
    "time = dataset.createDimension('time', None)"
   ]
  },
  {
   "cell_type": "code",
   "execution_count": 3,
   "metadata": {},
   "outputs": [
    {
     "name": "stdout",
     "output_type": "stream",
     "text": [
      "lat 73 False\n",
      "lon 144 False\n",
      "time 0 True\n"
     ]
    }
   ],
   "source": [
    "for dimname in dataset.dimensions.keys():\n",
    "    dim = dataset.dimensions[dimname]\n",
    "    print(dimname, len(dim), dim.isunlimited())"
   ]
  },
  {
   "cell_type": "code",
   "execution_count": 4,
   "metadata": {},
   "outputs": [],
   "source": [
    "import numpy as np\n",
    "\n",
    "times = dataset.createVariable('time', np.float64, ('time',))\n",
    "latitudes = dataset.createVariable('latitude', np.float32,('lat',))\n",
    "longitudes = dataset.createVariable('longitude', np.float32,('lon',)) \n",
    "temp = dataset.createVariable('temp', np.float32, ('time','lat','lon')) \n"
   ]
  },
  {
   "cell_type": "code",
   "execution_count": 5,
   "metadata": {},
   "outputs": [],
   "source": [
    "latitudes.units = 'degree_north'\n",
    "longitudes.units = 'degree_north'\n",
    "temp.units = 'K'\n",
    "times.units= 'hours since 00:00:00'\n",
    "times.calendar = 'gregorian'"
   ]
  },
  {
   "cell_type": "code",
   "execution_count": 6,
   "metadata": {},
   "outputs": [],
   "source": [
    "lats = np.arange(-90,91,2.5)\n",
    "lons = np.arange(-180,180,2.5)\n",
    "latitudes[:] = lats\n",
    "longitudes[:] = lons"
   ]
  },
  {
   "cell_type": "code",
   "execution_count": 7,
   "metadata": {},
   "outputs": [
    {
     "name": "stdout",
     "output_type": "stream",
     "text": [
      "(0, 73, 144)\n"
     ]
    }
   ],
   "source": [
    "print(temp.shape)"
   ]
  },
  {
   "cell_type": "code",
   "execution_count": 8,
   "metadata": {},
   "outputs": [],
   "source": [
    "times[0:10] = 1"
   ]
  },
  {
   "cell_type": "code",
   "execution_count": 9,
   "metadata": {},
   "outputs": [
    {
     "name": "stdout",
     "output_type": "stream",
     "text": [
      "(10, 73, 144)\n",
      "[1. 1. 1. 1. 1. 1. 1. 1. 1. 1.]\n"
     ]
    }
   ],
   "source": [
    "print(temp.shape)\n",
    "print(times[:])"
   ]
  },
  {
   "cell_type": "code",
   "execution_count": 10,
   "metadata": {},
   "outputs": [
    {
     "name": "stdout",
     "output_type": "stream",
     "text": [
      "before adding data (10, 73, 144)\n"
     ]
    }
   ],
   "source": [
    "from numpy.random import uniform\n",
    "nlats= len(dataset.dimensions['lat'])\n",
    "nlons = len(dataset.dimensions['lon'])\n",
    "temp[0:10,:,:] = uniform (size=(10,nlats,nlons))\n",
    "print(\"before adding data\", temp.shape)"
   ]
  },
  {
   "cell_type": "code",
   "execution_count": 11,
   "metadata": {},
   "outputs": [
    {
     "name": "stdout",
     "output_type": "stream",
     "text": [
      "[[2.7853172e-04 4.1166800e-01 8.1041723e-02 ... 8.6065155e-01\n",
      "  5.4120862e-01 6.3520563e-01]\n",
      " [4.2125058e-01 2.4173254e-01 1.9616812e-01 ... 3.4423716e-02\n",
      "  3.1497452e-01 6.5049940e-01]\n",
      " [4.6018767e-01 8.5569388e-01 5.9790558e-01 ... 3.2438645e-01\n",
      "  6.5097705e-02 2.5838533e-01]\n",
      " ...\n",
      " [9.8196393e-01 6.0007638e-01 2.6208940e-01 ... 9.4060981e-01\n",
      "  5.6790406e-01 4.6339774e-01]\n",
      " [2.8893268e-01 2.2194025e-01 4.3328132e-02 ... 9.4475865e-01\n",
      "  9.7722280e-01 2.0028326e-01]\n",
      " [2.7498704e-01 7.5441849e-01 8.2973146e-01 ... 2.4389994e-01\n",
      "  4.1185835e-01 3.0518273e-01]]\n"
     ]
    }
   ],
   "source": [
    "print(temp[2,:,:])"
   ]
  },
  {
   "cell_type": "code",
   "execution_count": null,
   "metadata": {},
   "outputs": [],
   "source": [
    "dataset.close()"
   ]
  }
 ],
 "metadata": {
  "kernelspec": {
   "display_name": "Python 3",
   "language": "python",
   "name": "python3"
  },
  "language_info": {
   "codemirror_mode": {
    "name": "ipython",
    "version": 3
   },
   "file_extension": ".py",
   "mimetype": "text/x-python",
   "name": "python",
   "nbconvert_exporter": "python",
   "pygments_lexer": "ipython3",
   "version": "3.6.6"
  }
 },
 "nbformat": 4,
 "nbformat_minor": 2
}
