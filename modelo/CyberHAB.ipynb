{
 "cells": [
  {
   "cell_type": "markdown",
   "metadata": {},
   "source": [
    "# CyberHAB\n",
    "<div class=\"row\" style=\"clear:both;display: table;\">\n",
    "<div class=\"column\" style=\"float: left;width: 25%;padding: 5px;\">\n",
    "    <img style=\"width:100%; height:50%\" src=\"http://ecohydros.es/wp-content/uploads/2018/12/marcaguaECOHYDROS-04.png\">\n",
    "</div>\n",
    "<div class=\"column\" style=\"float: left;width: 25%;padding: 5px;\">\n",
    "<img style=\"width:70%; height:50%\" src=\"https://www.santandercreativa.com/ekh2983gd29837gt_uploads/web_2/organizaciones_images/image_organizacion_final_425_2015-03-24_12_58_49.jpg\">\n",
    "</div>\n",
    "<div class=\"column\" style=\"float: left;width: 25%;padding: 5px;\">\n",
    "<img style=\"width:70%; height:50%\" \n",
    "src=\"https://www.eosc-hub.eu/sites/all/themes/theme1/logo.png\">\n",
    "</div>\n",
    "</div>"
   ]
  },
  {
   "cell_type": "code",
   "execution_count": 1,
   "metadata": {},
   "outputs": [],
   "source": [
    "%matplotlib notebook"
   ]
  },
  {
   "cell_type": "code",
   "execution_count": 2,
   "metadata": {},
   "outputs": [
    {
     "data": {
      "application/vnd.jupyter.widget-view+json": {
       "model_id": "8a94ddc3927446b8ba1ddf388859e11d",
       "version_major": 2,
       "version_minor": 0
      },
      "text/plain": [
       "Tab(children=(VBox(), VBox(children=(Select(description='Models', layout=Layout(width='75%'), options=('test_1…"
      ]
     },
     "metadata": {},
     "output_type": "display_data"
    }
   ],
   "source": [
    "%run -i notebook.py\n",
    "menu"
   ]
  },
  {
   "cell_type": "code",
   "execution_count": null,
   "metadata": {},
   "outputs": [],
   "source": []
  }
 ],
 "metadata": {
  "kernelspec": {
   "display_name": "Python 3",
   "language": "python",
   "name": "python3"
  },
  "language_info": {
   "codemirror_mode": {
    "name": "ipython",
    "version": 3
   },
   "file_extension": ".py",
   "mimetype": "text/x-python",
   "name": "python",
   "nbconvert_exporter": "python",
   "pygments_lexer": "ipython3",
   "version": "3.7.3"
  }
 },
 "nbformat": 4,
 "nbformat_minor": 2
}
